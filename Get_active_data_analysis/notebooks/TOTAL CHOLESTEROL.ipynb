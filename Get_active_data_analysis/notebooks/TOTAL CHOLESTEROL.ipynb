{
 "cells": [
  {
   "cell_type": "code",
   "execution_count": 25,
   "metadata": {},
   "outputs": [],
   "source": [
    "import pandas as pd\n",
    "import numpy as np\n",
    "dc=pd.read_csv('final_data.csv')\n",
    "from matplotlib import pyplot as plt\n",
    "import seaborn as sns"
   ]
  },
  {
   "cell_type": "code",
   "execution_count": 6,
   "metadata": {},
   "outputs": [
    {
     "data": {
      "text/html": [
       "<div>\n",
       "<style scoped>\n",
       "    .dataframe tbody tr th:only-of-type {\n",
       "        vertical-align: middle;\n",
       "    }\n",
       "\n",
       "    .dataframe tbody tr th {\n",
       "        vertical-align: top;\n",
       "    }\n",
       "\n",
       "    .dataframe thead th {\n",
       "        text-align: right;\n",
       "    }\n",
       "</style>\n",
       "<table border=\"1\" class=\"dataframe\">\n",
       "  <thead>\n",
       "    <tr style=\"text-align: right;\">\n",
       "      <th></th>\n",
       "      <th>PATIENT_ID</th>\n",
       "      <th>NAME</th>\n",
       "      <th>AGE</th>\n",
       "      <th>GENDER</th>\n",
       "      <th>DATE</th>\n",
       "      <th>VALUE</th>\n",
       "      <th>LOW</th>\n",
       "      <th>HIGH</th>\n",
       "      <th>PARAM</th>\n",
       "      <th>UNIT</th>\n",
       "      <th>ORDE_ID</th>\n",
       "    </tr>\n",
       "  </thead>\n",
       "  <tbody>\n",
       "    <tr>\n",
       "      <th>41</th>\n",
       "      <td>f_47_suchela_srivatsa_</td>\n",
       "      <td>Suchela Srivatsa</td>\n",
       "      <td>47.0</td>\n",
       "      <td>female</td>\n",
       "      <td>25-07-2019</td>\n",
       "      <td>212</td>\n",
       "      <td>50</td>\n",
       "      <td>199</td>\n",
       "      <td>TOTAL CHOLESTEROL</td>\n",
       "      <td>mg/dL</td>\n",
       "      <td>79.0</td>\n",
       "    </tr>\n",
       "    <tr>\n",
       "      <th>96</th>\n",
       "      <td>m_38_nischal_vijayadeva</td>\n",
       "      <td>Nischal Vijayadeva</td>\n",
       "      <td>38.0</td>\n",
       "      <td>male</td>\n",
       "      <td>25-07-2019</td>\n",
       "      <td>171</td>\n",
       "      <td>50</td>\n",
       "      <td>199</td>\n",
       "      <td>TOTAL CHOLESTEROL</td>\n",
       "      <td>mg/dL</td>\n",
       "      <td>1226.0</td>\n",
       "    </tr>\n",
       "    <tr>\n",
       "      <th>154</th>\n",
       "      <td>m_36_smakam</td>\n",
       "      <td>smakam</td>\n",
       "      <td>36.0</td>\n",
       "      <td>male</td>\n",
       "      <td>25-07-2019</td>\n",
       "      <td>179</td>\n",
       "      <td>50</td>\n",
       "      <td>199</td>\n",
       "      <td>TOTAL CHOLESTEROL</td>\n",
       "      <td>mg/dL</td>\n",
       "      <td>311.0</td>\n",
       "    </tr>\n",
       "    <tr>\n",
       "      <th>209</th>\n",
       "      <td>m_35_ashish.sawaye</td>\n",
       "      <td>ashish.sawaye</td>\n",
       "      <td>35.0</td>\n",
       "      <td>male</td>\n",
       "      <td>25-07-2019</td>\n",
       "      <td>223</td>\n",
       "      <td>50</td>\n",
       "      <td>199</td>\n",
       "      <td>TOTAL CHOLESTEROL</td>\n",
       "      <td>mg/dL</td>\n",
       "      <td>7262.0</td>\n",
       "    </tr>\n",
       "    <tr>\n",
       "      <th>264</th>\n",
       "      <td>m_40_larulraj</td>\n",
       "      <td>larulraj</td>\n",
       "      <td>40.0</td>\n",
       "      <td>male</td>\n",
       "      <td>25-07-2019</td>\n",
       "      <td>254</td>\n",
       "      <td>50</td>\n",
       "      <td>199</td>\n",
       "      <td>TOTAL CHOLESTEROL</td>\n",
       "      <td>mg/dL</td>\n",
       "      <td>3366.0</td>\n",
       "    </tr>\n",
       "  </tbody>\n",
       "</table>\n",
       "</div>"
      ],
      "text/plain": [
       "                  PATIENT_ID                NAME   AGE  GENDER        DATE  \\\n",
       "41    f_47_suchela_srivatsa_   Suchela Srivatsa   47.0  female  25-07-2019   \n",
       "96   m_38_nischal_vijayadeva  Nischal Vijayadeva  38.0    male  25-07-2019   \n",
       "154              m_36_smakam              smakam  36.0    male  25-07-2019   \n",
       "209       m_35_ashish.sawaye       ashish.sawaye  35.0    male  25-07-2019   \n",
       "264            m_40_larulraj            larulraj  40.0    male  25-07-2019   \n",
       "\n",
       "    VALUE LOW HIGH              PARAM   UNIT  ORDE_ID  \n",
       "41    212  50  199  TOTAL CHOLESTEROL  mg/dL     79.0  \n",
       "96    171  50  199  TOTAL CHOLESTEROL  mg/dL   1226.0  \n",
       "154   179  50  199  TOTAL CHOLESTEROL  mg/dL    311.0  \n",
       "209   223  50  199  TOTAL CHOLESTEROL  mg/dL   7262.0  \n",
       "264   254  50  199  TOTAL CHOLESTEROL  mg/dL   3366.0  "
      ]
     },
     "execution_count": 6,
     "metadata": {},
     "output_type": "execute_result"
    }
   ],
   "source": [
    "#Filtering Total Cholesterol Data\n",
    "df_ch=dc[dc['PARAM'] == 'TOTAL CHOLESTEROL']\n",
    "df_ch.head()"
   ]
  },
  {
   "cell_type": "code",
   "execution_count": 31,
   "metadata": {},
   "outputs": [
    {
     "name": "stdout",
     "output_type": "stream",
     "text": [
      "<class 'pandas.core.frame.DataFrame'>\n",
      "Int64Index: 8061 entries, 94810 to 461955\n",
      "Data columns (total 11 columns):\n",
      "PATIENT_ID    8061 non-null object\n",
      "NAME          8061 non-null object\n",
      "AGE           8061 non-null float64\n",
      "GENDER        8061 non-null object\n",
      "DATE          8061 non-null object\n",
      "VALUE         8061 non-null float64\n",
      "LOW           8061 non-null object\n",
      "HIGH          8061 non-null object\n",
      "PARAM         8061 non-null object\n",
      "UNIT          8061 non-null object\n",
      "ORDE_ID       8061 non-null float64\n",
      "dtypes: float64(3), object(8)\n",
      "memory usage: 755.7+ KB\n"
     ]
    }
   ],
   "source": [
    "\n",
    "df_ch.info()"
   ]
  },
  {
   "cell_type": "code",
   "execution_count": 9,
   "metadata": {},
   "outputs": [],
   "source": [
    "df_ch= df_ch.sort_values(by='AGE', ascending=0)"
   ]
  },
  {
   "cell_type": "code",
   "execution_count": 10,
   "metadata": {},
   "outputs": [
    {
     "name": "stdout",
     "output_type": "stream",
     "text": [
      "PATIENT_ID     object\n",
      "NAME           object\n",
      "AGE           float64\n",
      "GENDER         object\n",
      "DATE           object\n",
      "VALUE         float64\n",
      "LOW            object\n",
      "HIGH           object\n",
      "PARAM          object\n",
      "UNIT           object\n",
      "ORDE_ID       float64\n",
      "dtype: object\n"
     ]
    }
   ],
   "source": [
    "#Converting Data type to float\n",
    "convert_dict = {'VALUE': float\n",
    "               }\n",
    "df_ch = df_ch.astype(convert_dict)\n",
    "print(df_ch.dtypes)"
   ]
  },
  {
   "cell_type": "code",
   "execution_count": 11,
   "metadata": {},
   "outputs": [
    {
     "data": {
      "text/plain": [
       "8057"
      ]
     },
     "execution_count": 11,
     "metadata": {},
     "output_type": "execute_result"
    }
   ],
   "source": [
    "df_ch.PATIENT_ID.nunique()"
   ]
  },
  {
   "cell_type": "code",
   "execution_count": 28,
   "metadata": {},
   "outputs": [],
   "source": [
    "df_ch=df_ch.drop_duplicates()\n",
    "df_ch=df_ch[(df_ch['AGE']!=0)&(df_ch['AGE']<=100)]\n",
    "\n"
   ]
  },
  {
   "cell_type": "code",
   "execution_count": 29,
   "metadata": {},
   "outputs": [],
   "source": [
    "#Age wise division\n"
   ]
  },
  {
   "cell_type": "code",
   "execution_count": 88,
   "metadata": {},
   "outputs": [],
   "source": [
    "def TC_status(x):\n",
    "    if x['VALUE'] <=200  :\n",
    "        return 'NORMAL'\n",
    "    elif (x['VALUE']<=240)&(x['VALUE']>200)  :\n",
    "        return 'HIGH'\n",
    "    else :\n",
    "        return 'CRITICAL'\n",
    "    \n",
    "df_ch['TC_status'] = df_ch.apply(TC_status,axis=1)\n",
    "df_ch_20=df_ch[df_ch['AGE']<20]\n",
    "df_ch_30=df_ch[(df_ch['AGE']>=20)&(df_ch['AGE']<30)]\n",
    "df_ch_40=df_ch[(df_ch['AGE']>=30)&(df_ch['AGE']<40)]\n",
    "df_ch_50=df_ch[(df_ch['AGE']>=40)&(df_ch['AGE']<50)]\n",
    "df_ch_51=df_ch[df_ch['AGE']>=50]\n"
   ]
  },
  {
   "cell_type": "code",
   "execution_count": 89,
   "metadata": {},
   "outputs": [
    {
     "data": {
      "text/html": [
       "<div>\n",
       "<style scoped>\n",
       "    .dataframe tbody tr th:only-of-type {\n",
       "        vertical-align: middle;\n",
       "    }\n",
       "\n",
       "    .dataframe tbody tr th {\n",
       "        vertical-align: top;\n",
       "    }\n",
       "\n",
       "    .dataframe thead th {\n",
       "        text-align: right;\n",
       "    }\n",
       "</style>\n",
       "<table border=\"1\" class=\"dataframe\">\n",
       "  <thead>\n",
       "    <tr style=\"text-align: right;\">\n",
       "      <th></th>\n",
       "      <th>PATIENT_ID</th>\n",
       "      <th>NAME</th>\n",
       "      <th>AGE</th>\n",
       "      <th>GENDER</th>\n",
       "      <th>DATE</th>\n",
       "      <th>VALUE</th>\n",
       "      <th>LOW</th>\n",
       "      <th>HIGH</th>\n",
       "      <th>PARAM</th>\n",
       "      <th>UNIT</th>\n",
       "      <th>ORDE_ID</th>\n",
       "      <th>TC_status</th>\n",
       "    </tr>\n",
       "  </thead>\n",
       "  <tbody>\n",
       "    <tr>\n",
       "      <th>141217</th>\n",
       "      <td>f_60_shabnam.dawood</td>\n",
       "      <td>shabnam.dawood</td>\n",
       "      <td>60.0</td>\n",
       "      <td>female</td>\n",
       "      <td>25-07-2019</td>\n",
       "      <td>194.0</td>\n",
       "      <td>50</td>\n",
       "      <td>199</td>\n",
       "      <td>TOTAL CHOLESTEROL</td>\n",
       "      <td>mg/dL</td>\n",
       "      <td>7790.0</td>\n",
       "      <td>NORMAL</td>\n",
       "    </tr>\n",
       "    <tr>\n",
       "      <th>955314</th>\n",
       "      <td>m_58_murtaza_beawerwala</td>\n",
       "      <td>Murtaza Beawerwala</td>\n",
       "      <td>58.0</td>\n",
       "      <td>male</td>\n",
       "      <td>25-07-2019</td>\n",
       "      <td>131.0</td>\n",
       "      <td>-</td>\n",
       "      <td>200</td>\n",
       "      <td>TOTAL CHOLESTEROL</td>\n",
       "      <td>mg/dL</td>\n",
       "      <td>17.0</td>\n",
       "      <td>NORMAL</td>\n",
       "    </tr>\n",
       "    <tr>\n",
       "      <th>288017</th>\n",
       "      <td>f_56_rashna_cama</td>\n",
       "      <td>Rashna Cama</td>\n",
       "      <td>56.0</td>\n",
       "      <td>female</td>\n",
       "      <td>25-07-2019</td>\n",
       "      <td>157.0</td>\n",
       "      <td>50</td>\n",
       "      <td>199</td>\n",
       "      <td>TOTAL CHOLESTEROL</td>\n",
       "      <td>mg/dL</td>\n",
       "      <td>2710.0</td>\n",
       "      <td>NORMAL</td>\n",
       "    </tr>\n",
       "    <tr>\n",
       "      <th>132993</th>\n",
       "      <td>m_56_satya_palaka</td>\n",
       "      <td>Satya Palaka</td>\n",
       "      <td>56.0</td>\n",
       "      <td>male</td>\n",
       "      <td>25-07-2019</td>\n",
       "      <td>159.0</td>\n",
       "      <td>50</td>\n",
       "      <td>199</td>\n",
       "      <td>TOTAL CHOLESTEROL</td>\n",
       "      <td>mg/dL</td>\n",
       "      <td>7958.0</td>\n",
       "      <td>NORMAL</td>\n",
       "    </tr>\n",
       "    <tr>\n",
       "      <th>169690</th>\n",
       "      <td>m_56_ajay_ojha</td>\n",
       "      <td>Ajay Ojha</td>\n",
       "      <td>56.0</td>\n",
       "      <td>male</td>\n",
       "      <td>25-07-2019</td>\n",
       "      <td>129.0</td>\n",
       "      <td>50</td>\n",
       "      <td>199</td>\n",
       "      <td>TOTAL CHOLESTEROL</td>\n",
       "      <td>mg/dL</td>\n",
       "      <td>3321.0</td>\n",
       "      <td>NORMAL</td>\n",
       "    </tr>\n",
       "  </tbody>\n",
       "</table>\n",
       "</div>"
      ],
      "text/plain": [
       "                     PATIENT_ID                NAME   AGE  GENDER        DATE  \\\n",
       "141217      f_60_shabnam.dawood      shabnam.dawood  60.0  female  25-07-2019   \n",
       "955314  m_58_murtaza_beawerwala  Murtaza Beawerwala  58.0    male  25-07-2019   \n",
       "288017         f_56_rashna_cama         Rashna Cama  56.0  female  25-07-2019   \n",
       "132993        m_56_satya_palaka        Satya Palaka  56.0    male  25-07-2019   \n",
       "169690           m_56_ajay_ojha           Ajay Ojha  56.0    male  25-07-2019   \n",
       "\n",
       "        VALUE LOW HIGH              PARAM   UNIT  ORDE_ID TC_status  \n",
       "141217  194.0  50  199  TOTAL CHOLESTEROL  mg/dL   7790.0    NORMAL  \n",
       "955314  131.0   -  200  TOTAL CHOLESTEROL  mg/dL     17.0    NORMAL  \n",
       "288017  157.0  50  199  TOTAL CHOLESTEROL  mg/dL   2710.0    NORMAL  \n",
       "132993  159.0  50  199  TOTAL CHOLESTEROL  mg/dL   7958.0    NORMAL  \n",
       "169690  129.0  50  199  TOTAL CHOLESTEROL  mg/dL   3321.0    NORMAL  "
      ]
     },
     "execution_count": 89,
     "metadata": {},
     "output_type": "execute_result"
    }
   ],
   "source": [
    "df_ch.head()"
   ]
  },
  {
   "cell_type": "code",
   "execution_count": 99,
   "metadata": {},
   "outputs": [
    {
     "data": {
      "text/plain": [
       "Text(0.5, 1, 'age vs TC')"
      ]
     },
     "execution_count": 99,
     "metadata": {},
     "output_type": "execute_result"
    },
    {
     "data": {
      "image/png": "[encoded data removed]",
      "text/plain": [
       "<Figure size 296.875x216 with 1 Axes>"
      ]
     },
     "metadata": {},
     "output_type": "display_data"
    }
   ],
   "source": [
    "sns.set_style('whitegrid')\n",
    "sns.lmplot( x='AGE', y='VALUE', data=df_ch, \n",
    "           fit_reg=False, \n",
    "           hue='TC_status',\n",
    "           legend=True, \n",
    "           palette='Set2',\n",
    "           height = 3, \n",
    "           aspect = 1\n",
    "                     )\n",
    "ax1 = plt.gca()\n",
    "ax1.set_title('age vs TC', size=15)\n",
    "\n",
    "#In general the density of the plot decreases as we move to the right(look at the green part) and people tend to have higher cholesterol levels"
   ]
  },
  {
   "cell_type": "code",
   "execution_count": 91,
   "metadata": {},
   "outputs": [
    {
     "data": {
      "text/plain": [
       "<matplotlib.axes._subplots.AxesSubplot at 0x19eec321be0>"
      ]
     },
     "execution_count": 91,
     "metadata": {},
     "output_type": "execute_result"
    },
    {
     "data": {
      "image/png": "[encoded data removed]",
      "text/plain": [
       "<Figure size 432x288 with 1 Axes>"
      ]
     },
     "metadata": {},
     "output_type": "display_data"
    }
   ],
   "source": [
    "#Checking out the age distribution of the given sample population \n",
    "sns.distplot(df_ch.AGE,bins=30)\n",
    "#AGE DISTRIBUTION OF PEOPLE IS SKEWED.\n",
    "#gROUPWISE ANALYSIS MIGHT GIVE US BETTER RESULTS"
   ]
  },
  {
   "cell_type": "code",
   "execution_count": 100,
   "metadata": {},
   "outputs": [
    {
     "data": {
      "text/plain": [
       "Text(0.5, 1, 'age 50+ vs TC')"
      ]
     },
     "execution_count": 100,
     "metadata": {},
     "output_type": "execute_result"
    },
    {
     "data": {
      "image/png": "[encoded data removed]",
      "text/plain": [
       "<Figure size 224.875x144 with 1 Axes>"
      ]
     },
     "metadata": {},
     "output_type": "display_data"
    },
    {
     "data": {
      "image/png": "[encoded data removed]",
      "text/plain": [
       "<Figure size 224.875x144 with 1 Axes>"
      ]
     },
     "metadata": {},
     "output_type": "display_data"
    },
    {
     "data": {
      "image/png": "[encoded data removed]",
      "text/plain": [
       "<Figure size 224.875x144 with 1 Axes>"
      ]
     },
     "metadata": {},
     "output_type": "display_data"
    },
    {
     "data": {
      "image/png": "[encoded data removed]",
      "text/plain": [
       "<Figure size 224.875x144 with 1 Axes>"
      ]
     },
     "metadata": {},
     "output_type": "display_data"
    }
   ],
   "source": [
    "\n",
    "sns.set_style('whitegrid')\n",
    "sns.lmplot( x='AGE', y='VALUE', data=df_ch_30, \n",
    "           fit_reg=False, \n",
    "           hue='TC_status',\n",
    "           legend=True, \n",
    "           palette='Set2',\n",
    "           height = 2, \n",
    "           aspect = 1\n",
    "                     )\n",
    "ax1 = plt.gca()\n",
    "ax1.set_title('age 20-30 vs TC', size=15)\n",
    "\n",
    "sns.set_style('whitegrid')\n",
    "sns.lmplot( x='AGE', y='VALUE', data=df_ch_40, \n",
    "           fit_reg=False, \n",
    "           hue='TC_status',\n",
    "           legend=True, \n",
    "           palette='Set2',\n",
    "           height = 2, \n",
    "           aspect = 1\n",
    "                     )\n",
    "ax1 = plt.gca()\n",
    "ax1.set_title('age 30-40 vs TC', size=15)\n",
    "sns.set_style('whitegrid')\n",
    "sns.lmplot( x='AGE', y='VALUE', data=df_ch_50, \n",
    "           fit_reg=False, \n",
    "           hue='TC_status',\n",
    "           legend=True, \n",
    "           palette='Set2',\n",
    "           height = 2, \n",
    "           aspect = 1\n",
    "                     )\n",
    "ax1 = plt.gca()\n",
    "ax1.set_title('age 45-50 vs TC', size=15)\n",
    "sns.set_style('whitegrid')\n",
    "sns.lmplot( x='AGE', y='VALUE', data=df_ch_51, \n",
    "           fit_reg=False, \n",
    "           hue='TC_status',\n",
    "           legend=True, \n",
    "           palette='Set2',\n",
    "           height = 2, \n",
    "           aspect = 1\n",
    "                     )\n",
    "ax1 = plt.gca()\n",
    "ax1.set_title('age 50+ vs TC', size=15)"
   ]
  },
  {
   "cell_type": "code",
   "execution_count": null,
   "metadata": {},
   "outputs": [],
   "source": [
    "\n"
   ]
  },
  {
   "cell_type": "code",
   "execution_count": null,
   "metadata": {},
   "outputs": [],
   "source": []
  },
  {
   "cell_type": "code",
   "execution_count": 102,
   "metadata": {},
   "outputs": [],
   "source": [
    "age23=list(df_ch_30['AGE'])\n",
    "value23=list(df_ch_30['VALUE'])\n",
    "age34=list(df_ch_40['AGE'])\n",
    "value34=list(df_ch_40['VALUE'])\n",
    "age45=list(df_ch_50['AGE'])\n",
    "value45=list(df_ch_50['VALUE'])\n"
   ]
  },
  {
   "cell_type": "code",
   "execution_count": 66,
   "metadata": {},
   "outputs": [
    {
     "name": "stdout",
     "output_type": "stream",
     "text": [
      "175.48667002012073\n",
      "187.4147232368643\n",
      "192.02208835341366\n"
     ]
    }
   ],
   "source": [
    "print(sum(value23)/len(age23))\n",
    "print(sum(value34)/len(age34))\n",
    "print(sum(value45)/len(age45))\n",
    "#Mean values are increasing with age!!\n",
    "    "
   ]
  },
  {
   "cell_type": "code",
   "execution_count": null,
   "metadata": {},
   "outputs": [],
   "source": [
    "#after checking out the age wise distribution let's explore this data w.r.t gender"
   ]
  },
  {
   "cell_type": "code",
   "execution_count": 67,
   "metadata": {},
   "outputs": [
    {
     "data": {
      "text/plain": [
       "<matplotlib.axes._subplots.AxesSubplot at 0x19ee3fa8da0>"
      ]
     },
     "execution_count": 67,
     "metadata": {},
     "output_type": "execute_result"
    },
    {
     "data": {
      "image/png": "[encoded data removed]",
      "text/plain": [
       "<Figure size 432x288 with 1 Axes>"
      ]
     },
     "metadata": {},
     "output_type": "display_data"
    }
   ],
   "source": [
    "sns.countplot(x='GENDER', data=df_ch, palette='hls')\n",
    "#w.r.t to gender it is equally distributed\n"
   ]
  },
  {
   "cell_type": "code",
   "execution_count": 68,
   "metadata": {},
   "outputs": [],
   "source": [
    "df_male=df_ch[df_ch['GENDER']=='male']\n",
    "df_female=df_ch[df_ch['GENDER']=='female']"
   ]
  },
  {
   "cell_type": "code",
   "execution_count": 75,
   "metadata": {},
   "outputs": [],
   "source": [
    "\n",
    "df_ch=df_ch[df_ch['AGE']<100]"
   ]
  },
  {
   "cell_type": "code",
   "execution_count": 74,
   "metadata": {},
   "outputs": [
    {
     "data": {
      "text/plain": [
       "<matplotlib.collections.PathCollection at 0x19ee4232f98>"
      ]
     },
     "execution_count": 74,
     "metadata": {},
     "output_type": "execute_result"
    },
    {
     "data": {
      "image/png": "[encoded data removed]",
      "text/plain": [
       "<Figure size 432x288 with 1 Axes>"
      ]
     },
     "metadata": {},
     "output_type": "display_data"
    }
   ],
   "source": [
    "age=list(df_ch['AGE'])\n",
    "value=list(df_ch['VALUE'])\n",
    "plt.scatter(age,value,s=1)"
   ]
  },
  {
   "cell_type": "code",
   "execution_count": 104,
   "metadata": {},
   "outputs": [],
   "source": [
    "df_male=df_ch[df_ch['GENDER']=='male']\n",
    "df_female=df_ch[df_ch['GENDER']=='female']"
   ]
  },
  {
   "cell_type": "code",
   "execution_count": 106,
   "metadata": {},
   "outputs": [
    {
     "data": {
      "text/plain": [
       "Text(0.5, 1, 'FEMALE vs TC')"
      ]
     },
     "execution_count": 106,
     "metadata": {},
     "output_type": "execute_result"
    },
    {
     "data": {
      "image/png": "[encoded data removed]",
      "text/plain": [
       "<Figure size 224.875x144 with 1 Axes>"
      ]
     },
     "metadata": {},
     "output_type": "display_data"
    },
    {
     "data": {
      "image/png": "[encoded data removed]",
      "text/plain": [
       "<Figure size 224.875x144 with 1 Axes>"
      ]
     },
     "metadata": {},
     "output_type": "display_data"
    }
   ],
   "source": [
    "sns.set_style('whitegrid')\n",
    "sns.lmplot( x='AGE', y='VALUE', data=df_male, \n",
    "           fit_reg=False, \n",
    "           hue='TC_status',\n",
    "           legend=True, \n",
    "           palette='Set2',\n",
    "           height = 2, \n",
    "           aspect = 1\n",
    "                     )\n",
    "ax1 = plt.gca()\n",
    "ax1.set_title('MALE vs TC', size=15)\n",
    "sns.set_style('whitegrid')\n",
    "sns.lmplot( x='AGE', y='VALUE', data=df_female, \n",
    "           fit_reg=False, \n",
    "           hue='TC_status',\n",
    "           legend=True, \n",
    "           palette='Set2',\n",
    "           height = 2, \n",
    "           aspect = 1\n",
    "                     )\n",
    "ax1 = plt.gca()\n",
    "ax1.set_title('FEMALE vs TC', size=15)\n",
    "\n",
    "#MALES HAVE A HIGHER RISK OF INCREASED CHOLESTEROL AND THEREFORE HEART DISEASES RISK WHEN COMPARED TO FEMALES "
   ]
  },
  {
   "cell_type": "code",
   "execution_count": 79,
   "metadata": {},
   "outputs": [
    {
     "data": {
      "text/plain": [
       "<matplotlib.collections.PathCollection at 0x19ee3f280b8>"
      ]
     },
     "execution_count": 79,
     "metadata": {},
     "output_type": "execute_result"
    },
    {
     "data": {
      "image/png": "[encoded data removed]",
      "text/plain": [
       "<Figure size 432x288 with 1 Axes>"
      ]
     },
     "metadata": {},
     "output_type": "display_data"
    }
   ],
   "source": [
    "age=list(df_male['AGE'])\n",
    "value=list(df_male['VALUE'])\n",
    "plt.scatter(age,value,s=10)\n",
    "age=list(df_female['AGE'])\n",
    "value=list(df_female['VALUE'])\n",
    "plt.scatter(age,value,s=10)\n",
    "#Females tend to have lower values of Total Cholesterol as compared to Men "
   ]
  },
  {
   "cell_type": "code",
   "execution_count": 114,
   "metadata": {},
   "outputs": [],
   "source": [
    "high=df_ch[df_ch['VALUE']>=200]"
   ]
  },
  {
   "cell_type": "code",
   "execution_count": 115,
   "metadata": {},
   "outputs": [
    {
     "data": {
      "text/plain": [
       "8057"
      ]
     },
     "execution_count": 115,
     "metadata": {},
     "output_type": "execute_result"
    }
   ],
   "source": [
    "len(df_ch)"
   ]
  },
  {
   "cell_type": "code",
   "execution_count": 116,
   "metadata": {},
   "outputs": [
    {
     "data": {
      "text/plain": [
       "2243"
      ]
     },
     "execution_count": 116,
     "metadata": {},
     "output_type": "execute_result"
    }
   ],
   "source": [
    "len(high)"
   ]
  },
  {
   "cell_type": "code",
   "execution_count": 117,
   "metadata": {},
   "outputs": [
    {
     "name": "stdout",
     "output_type": "stream",
     "text": [
      "% of people with high cholesterol = 27.83914608415043\n"
     ]
    }
   ],
   "source": [
    "print('% of people with high cholesterol =',(len(high)/len(df_ch))*100) "
   ]
  },
  {
   "cell_type": "code",
   "execution_count": 118,
   "metadata": {},
   "outputs": [
    {
     "data": {
      "text/plain": [
       "4056"
      ]
     },
     "execution_count": 118,
     "metadata": {},
     "output_type": "execute_result"
    }
   ],
   "source": [
    "len(df_male)"
   ]
  },
  {
   "cell_type": "code",
   "execution_count": 128,
   "metadata": {},
   "outputs": [],
   "source": [
    "high_male=df_male[df_male['VALUE']>=200]\n",
    "high_female=df_female[df_female['VALUE']>=200]"
   ]
  },
  {
   "cell_type": "code",
   "execution_count": 129,
   "metadata": {},
   "outputs": [
    {
     "data": {
      "text/html": [
       "<div>\n",
       "<style scoped>\n",
       "    .dataframe tbody tr th:only-of-type {\n",
       "        vertical-align: middle;\n",
       "    }\n",
       "\n",
       "    .dataframe tbody tr th {\n",
       "        vertical-align: top;\n",
       "    }\n",
       "\n",
       "    .dataframe thead th {\n",
       "        text-align: right;\n",
       "    }\n",
       "</style>\n",
       "<table border=\"1\" class=\"dataframe\">\n",
       "  <thead>\n",
       "    <tr style=\"text-align: right;\">\n",
       "      <th></th>\n",
       "      <th>PATIENT_ID</th>\n",
       "      <th>NAME</th>\n",
       "      <th>AGE</th>\n",
       "      <th>GENDER</th>\n",
       "      <th>DATE</th>\n",
       "      <th>VALUE</th>\n",
       "      <th>LOW</th>\n",
       "      <th>HIGH</th>\n",
       "      <th>PARAM</th>\n",
       "      <th>UNIT</th>\n",
       "      <th>ORDE_ID</th>\n",
       "      <th>TC_status</th>\n",
       "    </tr>\n",
       "  </thead>\n",
       "  <tbody>\n",
       "    <tr>\n",
       "      <th>98938</th>\n",
       "      <td>m_53_chandrashekar_ps</td>\n",
       "      <td>Chandrashekar PS</td>\n",
       "      <td>53.0</td>\n",
       "      <td>male</td>\n",
       "      <td>25-07-2019</td>\n",
       "      <td>224.0</td>\n",
       "      <td>50</td>\n",
       "      <td>199</td>\n",
       "      <td>TOTAL CHOLESTEROL</td>\n",
       "      <td>mg/dL</td>\n",
       "      <td>6775.0</td>\n",
       "      <td>HIGH</td>\n",
       "    </tr>\n",
       "    <tr>\n",
       "      <th>1084</th>\n",
       "      <td>m_53_atar.tomar</td>\n",
       "      <td>atar.tomar</td>\n",
       "      <td>53.0</td>\n",
       "      <td>male</td>\n",
       "      <td>25-07-2019</td>\n",
       "      <td>255.0</td>\n",
       "      <td>50</td>\n",
       "      <td>199</td>\n",
       "      <td>TOTAL CHOLESTEROL</td>\n",
       "      <td>mg/dL</td>\n",
       "      <td>5412.0</td>\n",
       "      <td>CRITICAL</td>\n",
       "    </tr>\n",
       "    <tr>\n",
       "      <th>131741</th>\n",
       "      <td>m_52_kilaparthi.sreenivasarao</td>\n",
       "      <td>kilaparthi.sreenivasarao</td>\n",
       "      <td>52.0</td>\n",
       "      <td>male</td>\n",
       "      <td>25-07-2019</td>\n",
       "      <td>206.0</td>\n",
       "      <td>50</td>\n",
       "      <td>199</td>\n",
       "      <td>TOTAL CHOLESTEROL</td>\n",
       "      <td>mg/dL</td>\n",
       "      <td>7566.0</td>\n",
       "      <td>HIGH</td>\n",
       "    </tr>\n",
       "    <tr>\n",
       "      <th>37429</th>\n",
       "      <td>m_52_shrikanth.manikarnike</td>\n",
       "      <td>shrikanth.manikarnike</td>\n",
       "      <td>52.0</td>\n",
       "      <td>male</td>\n",
       "      <td>25-07-2019</td>\n",
       "      <td>214.0</td>\n",
       "      <td>50</td>\n",
       "      <td>199</td>\n",
       "      <td>TOTAL CHOLESTEROL</td>\n",
       "      <td>mg/dL</td>\n",
       "      <td>3066.0</td>\n",
       "      <td>HIGH</td>\n",
       "    </tr>\n",
       "    <tr>\n",
       "      <th>256749</th>\n",
       "      <td>m_50_ajay_deshpande</td>\n",
       "      <td>Ajay Deshpande</td>\n",
       "      <td>50.0</td>\n",
       "      <td>male</td>\n",
       "      <td>25-07-2019</td>\n",
       "      <td>242.0</td>\n",
       "      <td>50</td>\n",
       "      <td>199</td>\n",
       "      <td>TOTAL CHOLESTEROL</td>\n",
       "      <td>mg/dL</td>\n",
       "      <td>6219.0</td>\n",
       "      <td>CRITICAL</td>\n",
       "    </tr>\n",
       "  </tbody>\n",
       "</table>\n",
       "</div>"
      ],
      "text/plain": [
       "                           PATIENT_ID                      NAME   AGE GENDER  \\\n",
       "98938           m_53_chandrashekar_ps          Chandrashekar PS  53.0   male   \n",
       "1084                  m_53_atar.tomar                atar.tomar  53.0   male   \n",
       "131741  m_52_kilaparthi.sreenivasarao  kilaparthi.sreenivasarao  52.0   male   \n",
       "37429      m_52_shrikanth.manikarnike     shrikanth.manikarnike  52.0   male   \n",
       "256749            m_50_ajay_deshpande            Ajay Deshpande  50.0   male   \n",
       "\n",
       "              DATE  VALUE LOW HIGH              PARAM   UNIT  ORDE_ID  \\\n",
       "98938   25-07-2019  224.0  50  199  TOTAL CHOLESTEROL  mg/dL   6775.0   \n",
       "1084    25-07-2019  255.0  50  199  TOTAL CHOLESTEROL  mg/dL   5412.0   \n",
       "131741  25-07-2019  206.0  50  199  TOTAL CHOLESTEROL  mg/dL   7566.0   \n",
       "37429   25-07-2019  214.0  50  199  TOTAL CHOLESTEROL  mg/dL   3066.0   \n",
       "256749  25-07-2019  242.0  50  199  TOTAL CHOLESTEROL  mg/dL   6219.0   \n",
       "\n",
       "       TC_status  \n",
       "98938       HIGH  \n",
       "1084    CRITICAL  \n",
       "131741      HIGH  \n",
       "37429       HIGH  \n",
       "256749  CRITICAL  "
      ]
     },
     "execution_count": 129,
     "metadata": {},
     "output_type": "execute_result"
    }
   ],
   "source": [
    "high_male.head()"
   ]
  },
  {
   "cell_type": "code",
   "execution_count": 130,
   "metadata": {},
   "outputs": [
    {
     "data": {
      "text/plain": [
       "720"
      ]
     },
     "execution_count": 130,
     "metadata": {},
     "output_type": "execute_result"
    }
   ],
   "source": [
    "len(high_female)"
   ]
  },
  {
   "cell_type": "code",
   "execution_count": 131,
   "metadata": {},
   "outputs": [],
   "source": [
    "percent_high_female=(len(high_female)/len(df_female))*100"
   ]
  },
  {
   "cell_type": "code",
   "execution_count": 132,
   "metadata": {},
   "outputs": [
    {
     "data": {
      "text/plain": [
       "18.00450112528132"
      ]
     },
     "execution_count": 132,
     "metadata": {},
     "output_type": "execute_result"
    }
   ],
   "source": [
    "percent_high_female"
   ]
  },
  {
   "cell_type": "code",
   "execution_count": 133,
   "metadata": {},
   "outputs": [],
   "source": [
    "percent_high_male=(len(high_male)/len(df_male))*100"
   ]
  },
  {
   "cell_type": "code",
   "execution_count": 134,
   "metadata": {},
   "outputs": [
    {
     "data": {
      "text/plain": [
       "37.54930966469428"
      ]
     },
     "execution_count": 134,
     "metadata": {},
     "output_type": "execute_result"
    }
   ],
   "source": [
    "percent_high_male"
   ]
  },
  {
   "cell_type": "code",
   "execution_count": 139,
   "metadata": {},
   "outputs": [],
   "source": [
    "high_female_count= pd.DataFrame(high_female['AGE'],columns=['AGE'])\n",
    "high_female_count=high_female_count['AGE'].value_counts().to_frame().reset_index().rename(columns={'index':'Age', 'values':'Count'})\n"
   ]
  },
  {
   "cell_type": "code",
   "execution_count": 145,
   "metadata": {},
   "outputs": [],
   "source": [
    "high_female_count=high_female_count.rename(columns = {\"AGE\": \"COUNT\"})"
   ]
  },
  {
   "cell_type": "code",
   "execution_count": 147,
   "metadata": {},
   "outputs": [
    {
     "data": {
      "text/html": [
       "<div>\n",
       "<style scoped>\n",
       "    .dataframe tbody tr th:only-of-type {\n",
       "        vertical-align: middle;\n",
       "    }\n",
       "\n",
       "    .dataframe tbody tr th {\n",
       "        vertical-align: top;\n",
       "    }\n",
       "\n",
       "    .dataframe thead th {\n",
       "        text-align: right;\n",
       "    }\n",
       "</style>\n",
       "<table border=\"1\" class=\"dataframe\">\n",
       "  <thead>\n",
       "    <tr style=\"text-align: right;\">\n",
       "      <th></th>\n",
       "      <th>Age</th>\n",
       "      <th>COUNT</th>\n",
       "    </tr>\n",
       "  </thead>\n",
       "  <tbody>\n",
       "    <tr>\n",
       "      <th>0</th>\n",
       "      <td>24.0</td>\n",
       "      <td>80</td>\n",
       "    </tr>\n",
       "    <tr>\n",
       "      <th>1</th>\n",
       "      <td>33.0</td>\n",
       "      <td>55</td>\n",
       "    </tr>\n",
       "    <tr>\n",
       "      <th>2</th>\n",
       "      <td>27.0</td>\n",
       "      <td>52</td>\n",
       "    </tr>\n",
       "    <tr>\n",
       "      <th>3</th>\n",
       "      <td>26.0</td>\n",
       "      <td>50</td>\n",
       "    </tr>\n",
       "    <tr>\n",
       "      <th>4</th>\n",
       "      <td>25.0</td>\n",
       "      <td>49</td>\n",
       "    </tr>\n",
       "    <tr>\n",
       "      <th>5</th>\n",
       "      <td>29.0</td>\n",
       "      <td>49</td>\n",
       "    </tr>\n",
       "    <tr>\n",
       "      <th>6</th>\n",
       "      <td>30.0</td>\n",
       "      <td>46</td>\n",
       "    </tr>\n",
       "    <tr>\n",
       "      <th>7</th>\n",
       "      <td>31.0</td>\n",
       "      <td>44</td>\n",
       "    </tr>\n",
       "    <tr>\n",
       "      <th>8</th>\n",
       "      <td>32.0</td>\n",
       "      <td>44</td>\n",
       "    </tr>\n",
       "    <tr>\n",
       "      <th>9</th>\n",
       "      <td>28.0</td>\n",
       "      <td>32</td>\n",
       "    </tr>\n",
       "    <tr>\n",
       "      <th>10</th>\n",
       "      <td>34.0</td>\n",
       "      <td>32</td>\n",
       "    </tr>\n",
       "    <tr>\n",
       "      <th>11</th>\n",
       "      <td>38.0</td>\n",
       "      <td>27</td>\n",
       "    </tr>\n",
       "    <tr>\n",
       "      <th>12</th>\n",
       "      <td>35.0</td>\n",
       "      <td>23</td>\n",
       "    </tr>\n",
       "    <tr>\n",
       "      <th>13</th>\n",
       "      <td>37.0</td>\n",
       "      <td>22</td>\n",
       "    </tr>\n",
       "    <tr>\n",
       "      <th>14</th>\n",
       "      <td>36.0</td>\n",
       "      <td>20</td>\n",
       "    </tr>\n",
       "    <tr>\n",
       "      <th>15</th>\n",
       "      <td>23.0</td>\n",
       "      <td>17</td>\n",
       "    </tr>\n",
       "    <tr>\n",
       "      <th>16</th>\n",
       "      <td>45.0</td>\n",
       "      <td>12</td>\n",
       "    </tr>\n",
       "    <tr>\n",
       "      <th>17</th>\n",
       "      <td>39.0</td>\n",
       "      <td>12</td>\n",
       "    </tr>\n",
       "    <tr>\n",
       "      <th>18</th>\n",
       "      <td>22.0</td>\n",
       "      <td>11</td>\n",
       "    </tr>\n",
       "    <tr>\n",
       "      <th>19</th>\n",
       "      <td>41.0</td>\n",
       "      <td>9</td>\n",
       "    </tr>\n",
       "    <tr>\n",
       "      <th>20</th>\n",
       "      <td>40.0</td>\n",
       "      <td>8</td>\n",
       "    </tr>\n",
       "    <tr>\n",
       "      <th>21</th>\n",
       "      <td>43.0</td>\n",
       "      <td>7</td>\n",
       "    </tr>\n",
       "    <tr>\n",
       "      <th>22</th>\n",
       "      <td>42.0</td>\n",
       "      <td>4</td>\n",
       "    </tr>\n",
       "    <tr>\n",
       "      <th>23</th>\n",
       "      <td>47.0</td>\n",
       "      <td>4</td>\n",
       "    </tr>\n",
       "    <tr>\n",
       "      <th>24</th>\n",
       "      <td>46.0</td>\n",
       "      <td>3</td>\n",
       "    </tr>\n",
       "    <tr>\n",
       "      <th>25</th>\n",
       "      <td>44.0</td>\n",
       "      <td>2</td>\n",
       "    </tr>\n",
       "    <tr>\n",
       "      <th>26</th>\n",
       "      <td>48.0</td>\n",
       "      <td>2</td>\n",
       "    </tr>\n",
       "    <tr>\n",
       "      <th>27</th>\n",
       "      <td>50.0</td>\n",
       "      <td>1</td>\n",
       "    </tr>\n",
       "    <tr>\n",
       "      <th>28</th>\n",
       "      <td>53.0</td>\n",
       "      <td>1</td>\n",
       "    </tr>\n",
       "    <tr>\n",
       "      <th>29</th>\n",
       "      <td>54.0</td>\n",
       "      <td>1</td>\n",
       "    </tr>\n",
       "    <tr>\n",
       "      <th>30</th>\n",
       "      <td>55.0</td>\n",
       "      <td>1</td>\n",
       "    </tr>\n",
       "  </tbody>\n",
       "</table>\n",
       "</div>"
      ],
      "text/plain": [
       "     Age  COUNT\n",
       "0   24.0     80\n",
       "1   33.0     55\n",
       "2   27.0     52\n",
       "3   26.0     50\n",
       "4   25.0     49\n",
       "5   29.0     49\n",
       "6   30.0     46\n",
       "7   31.0     44\n",
       "8   32.0     44\n",
       "9   28.0     32\n",
       "10  34.0     32\n",
       "11  38.0     27\n",
       "12  35.0     23\n",
       "13  37.0     22\n",
       "14  36.0     20\n",
       "15  23.0     17\n",
       "16  45.0     12\n",
       "17  39.0     12\n",
       "18  22.0     11\n",
       "19  41.0      9\n",
       "20  40.0      8\n",
       "21  43.0      7\n",
       "22  42.0      4\n",
       "23  47.0      4\n",
       "24  46.0      3\n",
       "25  44.0      2\n",
       "26  48.0      2\n",
       "27  50.0      1\n",
       "28  53.0      1\n",
       "29  54.0      1\n",
       "30  55.0      1"
      ]
     },
     "execution_count": 147,
     "metadata": {},
     "output_type": "execute_result"
    }
   ],
   "source": [
    "high_female_count"
   ]
  },
  {
   "cell_type": "code",
   "execution_count": 149,
   "metadata": {},
   "outputs": [
    {
     "data": {
      "text/plain": [
       "<matplotlib.collections.PathCollection at 0x19eed1360f0>"
      ]
     },
     "execution_count": 149,
     "metadata": {},
     "output_type": "execute_result"
    },
    {
     "data": {
      "image/png": "[encoded data removed]",
      "text/plain": [
       "<Figure size 432x288 with 1 Axes>"
      ]
     },
     "metadata": {},
     "output_type": "display_data"
    }
   ],
   "source": [
    "age=list(high_female_count['Age'])\n",
    "value=list(high_female_count['COUNT'])\n",
    "plt.scatter(age,value,s=10)\n"
   ]
  },
  {
   "cell_type": "code",
   "execution_count": 150,
   "metadata": {},
   "outputs": [],
   "source": [
    "high_male_count= pd.DataFrame(high_male['AGE'],columns=['AGE'])\n",
    "high_male_count=high_male_count['AGE'].value_counts().to_frame().reset_index().rename(columns={'index':'Age', 'values':'Count'})"
   ]
  },
  {
   "cell_type": "code",
   "execution_count": 151,
   "metadata": {},
   "outputs": [],
   "source": [
    "high_male_count=high_male_count.rename(columns = {\"AGE\": \"COUNT\"})"
   ]
  },
  {
   "cell_type": "code",
   "execution_count": 152,
   "metadata": {},
   "outputs": [
    {
     "data": {
      "text/html": [
       "<div>\n",
       "<style scoped>\n",
       "    .dataframe tbody tr th:only-of-type {\n",
       "        vertical-align: middle;\n",
       "    }\n",
       "\n",
       "    .dataframe tbody tr th {\n",
       "        vertical-align: top;\n",
       "    }\n",
       "\n",
       "    .dataframe thead th {\n",
       "        text-align: right;\n",
       "    }\n",
       "</style>\n",
       "<table border=\"1\" class=\"dataframe\">\n",
       "  <thead>\n",
       "    <tr style=\"text-align: right;\">\n",
       "      <th></th>\n",
       "      <th>Age</th>\n",
       "      <th>COUNT</th>\n",
       "    </tr>\n",
       "  </thead>\n",
       "  <tbody>\n",
       "    <tr>\n",
       "      <th>0</th>\n",
       "      <td>33.0</td>\n",
       "      <td>178</td>\n",
       "    </tr>\n",
       "    <tr>\n",
       "      <th>1</th>\n",
       "      <td>30.0</td>\n",
       "      <td>154</td>\n",
       "    </tr>\n",
       "    <tr>\n",
       "      <th>2</th>\n",
       "      <td>24.0</td>\n",
       "      <td>100</td>\n",
       "    </tr>\n",
       "    <tr>\n",
       "      <th>3</th>\n",
       "      <td>29.0</td>\n",
       "      <td>99</td>\n",
       "    </tr>\n",
       "    <tr>\n",
       "      <th>4</th>\n",
       "      <td>31.0</td>\n",
       "      <td>95</td>\n",
       "    </tr>\n",
       "    <tr>\n",
       "      <th>5</th>\n",
       "      <td>28.0</td>\n",
       "      <td>92</td>\n",
       "    </tr>\n",
       "    <tr>\n",
       "      <th>6</th>\n",
       "      <td>38.0</td>\n",
       "      <td>90</td>\n",
       "    </tr>\n",
       "    <tr>\n",
       "      <th>7</th>\n",
       "      <td>34.0</td>\n",
       "      <td>85</td>\n",
       "    </tr>\n",
       "    <tr>\n",
       "      <th>8</th>\n",
       "      <td>32.0</td>\n",
       "      <td>74</td>\n",
       "    </tr>\n",
       "    <tr>\n",
       "      <th>9</th>\n",
       "      <td>35.0</td>\n",
       "      <td>70</td>\n",
       "    </tr>\n",
       "    <tr>\n",
       "      <th>10</th>\n",
       "      <td>36.0</td>\n",
       "      <td>66</td>\n",
       "    </tr>\n",
       "    <tr>\n",
       "      <th>11</th>\n",
       "      <td>27.0</td>\n",
       "      <td>66</td>\n",
       "    </tr>\n",
       "    <tr>\n",
       "      <th>12</th>\n",
       "      <td>37.0</td>\n",
       "      <td>55</td>\n",
       "    </tr>\n",
       "    <tr>\n",
       "      <th>13</th>\n",
       "      <td>26.0</td>\n",
       "      <td>44</td>\n",
       "    </tr>\n",
       "    <tr>\n",
       "      <th>14</th>\n",
       "      <td>25.0</td>\n",
       "      <td>43</td>\n",
       "    </tr>\n",
       "    <tr>\n",
       "      <th>15</th>\n",
       "      <td>39.0</td>\n",
       "      <td>35</td>\n",
       "    </tr>\n",
       "    <tr>\n",
       "      <th>16</th>\n",
       "      <td>41.0</td>\n",
       "      <td>28</td>\n",
       "    </tr>\n",
       "    <tr>\n",
       "      <th>17</th>\n",
       "      <td>40.0</td>\n",
       "      <td>27</td>\n",
       "    </tr>\n",
       "    <tr>\n",
       "      <th>18</th>\n",
       "      <td>45.0</td>\n",
       "      <td>27</td>\n",
       "    </tr>\n",
       "    <tr>\n",
       "      <th>19</th>\n",
       "      <td>42.0</td>\n",
       "      <td>22</td>\n",
       "    </tr>\n",
       "    <tr>\n",
       "      <th>20</th>\n",
       "      <td>43.0</td>\n",
       "      <td>19</td>\n",
       "    </tr>\n",
       "    <tr>\n",
       "      <th>21</th>\n",
       "      <td>23.0</td>\n",
       "      <td>16</td>\n",
       "    </tr>\n",
       "    <tr>\n",
       "      <th>22</th>\n",
       "      <td>44.0</td>\n",
       "      <td>13</td>\n",
       "    </tr>\n",
       "    <tr>\n",
       "      <th>23</th>\n",
       "      <td>22.0</td>\n",
       "      <td>7</td>\n",
       "    </tr>\n",
       "    <tr>\n",
       "      <th>24</th>\n",
       "      <td>46.0</td>\n",
       "      <td>6</td>\n",
       "    </tr>\n",
       "    <tr>\n",
       "      <th>25</th>\n",
       "      <td>48.0</td>\n",
       "      <td>2</td>\n",
       "    </tr>\n",
       "    <tr>\n",
       "      <th>26</th>\n",
       "      <td>52.0</td>\n",
       "      <td>2</td>\n",
       "    </tr>\n",
       "    <tr>\n",
       "      <th>27</th>\n",
       "      <td>21.0</td>\n",
       "      <td>2</td>\n",
       "    </tr>\n",
       "    <tr>\n",
       "      <th>28</th>\n",
       "      <td>47.0</td>\n",
       "      <td>2</td>\n",
       "    </tr>\n",
       "    <tr>\n",
       "      <th>29</th>\n",
       "      <td>53.0</td>\n",
       "      <td>2</td>\n",
       "    </tr>\n",
       "    <tr>\n",
       "      <th>30</th>\n",
       "      <td>49.0</td>\n",
       "      <td>1</td>\n",
       "    </tr>\n",
       "    <tr>\n",
       "      <th>31</th>\n",
       "      <td>50.0</td>\n",
       "      <td>1</td>\n",
       "    </tr>\n",
       "  </tbody>\n",
       "</table>\n",
       "</div>"
      ],
      "text/plain": [
       "     Age  COUNT\n",
       "0   33.0    178\n",
       "1   30.0    154\n",
       "2   24.0    100\n",
       "3   29.0     99\n",
       "4   31.0     95\n",
       "5   28.0     92\n",
       "6   38.0     90\n",
       "7   34.0     85\n",
       "8   32.0     74\n",
       "9   35.0     70\n",
       "10  36.0     66\n",
       "11  27.0     66\n",
       "12  37.0     55\n",
       "13  26.0     44\n",
       "14  25.0     43\n",
       "15  39.0     35\n",
       "16  41.0     28\n",
       "17  40.0     27\n",
       "18  45.0     27\n",
       "19  42.0     22\n",
       "20  43.0     19\n",
       "21  23.0     16\n",
       "22  44.0     13\n",
       "23  22.0      7\n",
       "24  46.0      6\n",
       "25  48.0      2\n",
       "26  52.0      2\n",
       "27  21.0      2\n",
       "28  47.0      2\n",
       "29  53.0      2\n",
       "30  49.0      1\n",
       "31  50.0      1"
      ]
     },
     "execution_count": 152,
     "metadata": {},
     "output_type": "execute_result"
    }
   ],
   "source": [
    "high_male_count"
   ]
  },
  {
   "cell_type": "code",
   "execution_count": 153,
   "metadata": {},
   "outputs": [
    {
     "data": {
      "text/plain": [
       "<matplotlib.collections.PathCollection at 0x19eed19d320>"
      ]
     },
     "execution_count": 153,
     "metadata": {},
     "output_type": "execute_result"
    },
    {
     "data": {
      "image/png": "[encoded data removed]",
      "text/plain": [
       "<Figure size 432x288 with 1 Axes>"
      ]
     },
     "metadata": {},
     "output_type": "display_data"
    }
   ],
   "source": [
    "age=list(high_female_count['Age'])\n",
    "value=list(high_female_count['COUNT'])\n",
    "plt.scatter(age,value,s=10)\n",
    "age=list(high_male_count['Age'])\n",
    "value=list(high_male_count['COUNT'])\n",
    "plt.scatter(age,value,s=10)\n"
   ]
  },
  {
   "cell_type": "code",
   "execution_count": 159,
   "metadata": {},
   "outputs": [
    {
     "data": {
      "image/png": "[encoded data removed]",
      "text/plain": [
       "<Figure size 432x432 with 3 Axes>"
      ]
     },
     "metadata": {},
     "output_type": "display_data"
    }
   ],
   "source": [
    "j=sns.jointplot(data=high_female,x='AGE',y='VALUE',kind='hex')\n",
    "#I kind of liked this plot as it gives us an idea about the clusters which can be formed.\n",
    "#So we can compare the plot with other bioparameter's plot and find out results which might be insightful."
   ]
  },
  {
   "cell_type": "code",
   "execution_count": 161,
   "metadata": {},
   "outputs": [],
   "source": [
    "high= pd.DataFrame(high['AGE'],columns=['AGE'])\n",
    "high_count=high['AGE'].value_counts().to_frame().reset_index().rename(columns={'index':'Age', 'values':'Count'})\n"
   ]
  },
  {
   "cell_type": "code",
   "execution_count": 162,
   "metadata": {},
   "outputs": [],
   "source": [
    "high_count=high_count.rename(columns = {\"AGE\": \"COUNT\"})"
   ]
  },
  {
   "cell_type": "code",
   "execution_count": 170,
   "metadata": {},
   "outputs": [],
   "source": [
    "high_count=high_count[high_count['COUNT']>5]"
   ]
  },
  {
   "cell_type": "code",
   "execution_count": 164,
   "metadata": {},
   "outputs": [],
   "source": [
    "high= pd.DataFrame(df_ch['AGE'],columns=['AGE'])\n",
    "age_count=df_ch['AGE'].value_counts().to_frame().reset_index().rename(columns={'index':'Age', 'values':'Count'})"
   ]
  },
  {
   "cell_type": "code",
   "execution_count": 172,
   "metadata": {},
   "outputs": [],
   "source": [
    "age_count=age_count.rename(columns = {\"AGE\": \"COUNT\"})"
   ]
  },
  {
   "cell_type": "code",
   "execution_count": 171,
   "metadata": {},
   "outputs": [],
   "source": [
    "age_count=age_count[age_count['COUNT']>5]"
   ]
  },
  {
   "cell_type": "code",
   "execution_count": 175,
   "metadata": {},
   "outputs": [
    {
     "data": {
      "text/html": [
       "<div>\n",
       "<style scoped>\n",
       "    .dataframe tbody tr th:only-of-type {\n",
       "        vertical-align: middle;\n",
       "    }\n",
       "\n",
       "    .dataframe tbody tr th {\n",
       "        vertical-align: top;\n",
       "    }\n",
       "\n",
       "    .dataframe thead th {\n",
       "        text-align: right;\n",
       "    }\n",
       "</style>\n",
       "<table border=\"1\" class=\"dataframe\">\n",
       "  <thead>\n",
       "    <tr style=\"text-align: right;\">\n",
       "      <th></th>\n",
       "      <th>Age</th>\n",
       "      <th>COUNT</th>\n",
       "    </tr>\n",
       "  </thead>\n",
       "  <tbody>\n",
       "    <tr>\n",
       "      <th>0</th>\n",
       "      <td>24.0</td>\n",
       "      <td>992</td>\n",
       "    </tr>\n",
       "    <tr>\n",
       "      <th>1</th>\n",
       "      <td>33.0</td>\n",
       "      <td>663</td>\n",
       "    </tr>\n",
       "    <tr>\n",
       "      <th>2</th>\n",
       "      <td>30.0</td>\n",
       "      <td>632</td>\n",
       "    </tr>\n",
       "    <tr>\n",
       "      <th>3</th>\n",
       "      <td>25.0</td>\n",
       "      <td>531</td>\n",
       "    </tr>\n",
       "    <tr>\n",
       "      <th>4</th>\n",
       "      <td>27.0</td>\n",
       "      <td>528</td>\n",
       "    </tr>\n",
       "    <tr>\n",
       "      <th>5</th>\n",
       "      <td>29.0</td>\n",
       "      <td>521</td>\n",
       "    </tr>\n",
       "    <tr>\n",
       "      <th>6</th>\n",
       "      <td>28.0</td>\n",
       "      <td>505</td>\n",
       "    </tr>\n",
       "    <tr>\n",
       "      <th>7</th>\n",
       "      <td>26.0</td>\n",
       "      <td>469</td>\n",
       "    </tr>\n",
       "    <tr>\n",
       "      <th>8</th>\n",
       "      <td>31.0</td>\n",
       "      <td>452</td>\n",
       "    </tr>\n",
       "    <tr>\n",
       "      <th>9</th>\n",
       "      <td>32.0</td>\n",
       "      <td>388</td>\n",
       "    </tr>\n",
       "    <tr>\n",
       "      <th>10</th>\n",
       "      <td>34.0</td>\n",
       "      <td>298</td>\n",
       "    </tr>\n",
       "    <tr>\n",
       "      <th>11</th>\n",
       "      <td>38.0</td>\n",
       "      <td>295</td>\n",
       "    </tr>\n",
       "    <tr>\n",
       "      <th>12</th>\n",
       "      <td>35.0</td>\n",
       "      <td>262</td>\n",
       "    </tr>\n",
       "    <tr>\n",
       "      <th>13</th>\n",
       "      <td>23.0</td>\n",
       "      <td>249</td>\n",
       "    </tr>\n",
       "    <tr>\n",
       "      <th>14</th>\n",
       "      <td>36.0</td>\n",
       "      <td>242</td>\n",
       "    </tr>\n",
       "    <tr>\n",
       "      <th>15</th>\n",
       "      <td>37.0</td>\n",
       "      <td>214</td>\n",
       "    </tr>\n",
       "    <tr>\n",
       "      <th>16</th>\n",
       "      <td>22.0</td>\n",
       "      <td>148</td>\n",
       "    </tr>\n",
       "    <tr>\n",
       "      <th>17</th>\n",
       "      <td>39.0</td>\n",
       "      <td>113</td>\n",
       "    </tr>\n",
       "    <tr>\n",
       "      <th>18</th>\n",
       "      <td>40.0</td>\n",
       "      <td>93</td>\n",
       "    </tr>\n",
       "    <tr>\n",
       "      <th>19</th>\n",
       "      <td>41.0</td>\n",
       "      <td>88</td>\n",
       "    </tr>\n",
       "    <tr>\n",
       "      <th>20</th>\n",
       "      <td>45.0</td>\n",
       "      <td>83</td>\n",
       "    </tr>\n",
       "    <tr>\n",
       "      <th>21</th>\n",
       "      <td>42.0</td>\n",
       "      <td>71</td>\n",
       "    </tr>\n",
       "    <tr>\n",
       "      <th>22</th>\n",
       "      <td>43.0</td>\n",
       "      <td>58</td>\n",
       "    </tr>\n",
       "    <tr>\n",
       "      <th>23</th>\n",
       "      <td>44.0</td>\n",
       "      <td>41</td>\n",
       "    </tr>\n",
       "    <tr>\n",
       "      <th>24</th>\n",
       "      <td>21.0</td>\n",
       "      <td>30</td>\n",
       "    </tr>\n",
       "    <tr>\n",
       "      <th>25</th>\n",
       "      <td>46.0</td>\n",
       "      <td>24</td>\n",
       "    </tr>\n",
       "    <tr>\n",
       "      <th>26</th>\n",
       "      <td>48.0</td>\n",
       "      <td>16</td>\n",
       "    </tr>\n",
       "    <tr>\n",
       "      <th>27</th>\n",
       "      <td>47.0</td>\n",
       "      <td>14</td>\n",
       "    </tr>\n",
       "    <tr>\n",
       "      <th>28</th>\n",
       "      <td>49.0</td>\n",
       "      <td>10</td>\n",
       "    </tr>\n",
       "    <tr>\n",
       "      <th>29</th>\n",
       "      <td>53.0</td>\n",
       "      <td>6</td>\n",
       "    </tr>\n",
       "  </tbody>\n",
       "</table>\n",
       "</div>"
      ],
      "text/plain": [
       "     Age  COUNT\n",
       "0   24.0    992\n",
       "1   33.0    663\n",
       "2   30.0    632\n",
       "3   25.0    531\n",
       "4   27.0    528\n",
       "5   29.0    521\n",
       "6   28.0    505\n",
       "7   26.0    469\n",
       "8   31.0    452\n",
       "9   32.0    388\n",
       "10  34.0    298\n",
       "11  38.0    295\n",
       "12  35.0    262\n",
       "13  23.0    249\n",
       "14  36.0    242\n",
       "15  37.0    214\n",
       "16  22.0    148\n",
       "17  39.0    113\n",
       "18  40.0     93\n",
       "19  41.0     88\n",
       "20  45.0     83\n",
       "21  42.0     71\n",
       "22  43.0     58\n",
       "23  44.0     41\n",
       "24  21.0     30\n",
       "25  46.0     24\n",
       "26  48.0     16\n",
       "27  47.0     14\n",
       "28  49.0     10\n",
       "29  53.0      6"
      ]
     },
     "execution_count": 175,
     "metadata": {},
     "output_type": "execute_result"
    }
   ],
   "source": [
    "age_count"
   ]
  },
  {
   "cell_type": "code",
   "execution_count": null,
   "metadata": {},
   "outputs": [],
   "source": [
    "#Number of people having high range in a particular age does not give us the exact picture of the data\n",
    "#Percent values are better indicators, Calculating the percentages , I found out that with age there was a clear relationship between %high people and Age\n"
   ]
  }
 ],
 "metadata": {
  "kernelspec": {
   "display_name": "Python 3",
   "language": "python",
   "name": "python3"
  },
  "language_info": {
   "codemirror_mode": {
    "name": "ipython",
    "version": 3
   },
   "file_extension": ".py",
   "mimetype": "text/x-python",
   "name": "python",
   "nbconvert_exporter": "python",
   "pygments_lexer": "ipython3",
   "version": "3.7.3"
  }
 },
 "nbformat": 4,
 "nbformat_minor": 2
}
