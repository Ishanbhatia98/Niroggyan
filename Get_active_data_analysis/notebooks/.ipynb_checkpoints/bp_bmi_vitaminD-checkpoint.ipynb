{
 "cells": [
  {
   "cell_type": "code",
   "execution_count": 32,
   "metadata": {},
   "outputs": [],
   "source": [
    "import pandas as pd\n",
    "import numpy as np\n",
    "\n",
    "import warnings\n",
    "warnings.filterwarnings('ignore')\n",
    "\n",
    "import seaborn as sns\n",
    "from matplotlib import pyplot as plt\n",
    "import matplotlib\n",
    "\n",
    "from numpy import median, mean\n",
    "import statistics\n",
    "%matplotlib inline"
   ]
  },
  {
   "cell_type": "code",
   "execution_count": 33,
   "metadata": {},
   "outputs": [],
   "source": [
    "path = '/Users/ishan/desktop/niroggyan/get_active_data_analysis/data/'\n",
    "data = pd.read_csv(path + 'final.csv')"
   ]
  },
  {
   "cell_type": "code",
   "execution_count": 34,
   "metadata": {},
   "outputs": [],
   "source": [
    "new = pd.pivot_table(data, values='VALUE', index=['NAME', 'AGE', 'GENDER'],\n",
    "                    columns=['PARAM TEST'], aggfunc=np.sum, fill_value=0)\n",
    "independent = ['BODY MASS INDEX','HEIGHT', 'WEIGHT', 'Diastolic', 'Systolic', 'VITAMIN D (25 - OH VITAMIN D)']\n",
    "dependent = ['HbA1c, GLYCATED HEMOGLOBIN', 'HDL CHOLESTEROL', 'LDL CHOLESTEROL', 'VLDL CHOLESTEROL', 'TRIGLYCERIDES', 'TOTAL CHOLESTEROL', ]\n",
    "data = new[independent + dependent]\n",
    "\n",
    "iv = ['Bmi', 'Weight', 'Diastolic', 'Systolic', 'VitaminD']\n",
    "dv = ['Hb1ac','Glycated_haemoglobin', 'Hdl','Ldl', 'Vldl', 'Triglycerides', 'Total_cholestrol']\n",
    "\n",
    "data.columns = iv+dv"
   ]
  },
  {
   "cell_type": "code",
   "execution_count": 35,
   "metadata": {},
   "outputs": [],
   "source": [
    "#Adding gender\n",
    "l = []\n",
    "for i in data.index:\n",
    "    l.append(i[2])\n",
    "\n",
    "\n",
    "data['Gender'] = l\n",
    "\n",
    "\n",
    "#Adding age\n",
    "a = []\n",
    "for i in data.index:\n",
    "    a.append(int(i[1]))\n",
    "data['Age'] = a\n",
    "\n",
    "new_cols = ['Age'] + iv + dv\n",
    "data = data[new_cols]"
   ]
  },
  {
   "cell_type": "code",
   "execution_count": 36,
   "metadata": {},
   "outputs": [],
   "source": [
    "def convert(s):\n",
    "    s = str(s)\n",
    "    try:\n",
    "        if '.' in s:\n",
    "            i = s.index('.')\n",
    "            return float(s[:(i+2)])\n",
    "        elif '<'  in s:\n",
    "            i = s.index('<')\n",
    "            print(s[(i+1):])\n",
    "            return float(s[(i+1):])\n",
    "        elif '>' in s:\n",
    "            i = s.index('>')\n",
    "            return float(s[(i+1):])\n",
    "    except:\n",
    "        return float(s)\n",
    "    "
   ]
  },
  {
   "cell_type": "code",
   "execution_count": 37,
   "metadata": {},
   "outputs": [
    {
     "name": "stdout",
     "output_type": "stream",
     "text": [
      "Hb1ac\n"
     ]
    }
   ],
   "source": [
    "dvc = ['Glycated_haemoglobin', 'Hdl','Ldl', 'Vldl', 'Total_cholestrol', 'Hb1ac']\n",
    "conv_cols = ['Age'] + iv + dv\n",
    "\n",
    "for col in conv_cols:\n",
    "    try:\n",
    "        data = data[data[col]!='Not Required']\n",
    "        data[col] = data[col].map(lambda s: convert(s))\n",
    "    except:\n",
    "        print(col)\n",
    "#TODO:Convert Hb1ac"
   ]
  },
  {
   "cell_type": "code",
   "execution_count": 38,
   "metadata": {},
   "outputs": [
    {
     "name": "stdout",
     "output_type": "stream",
     "text": [
      "<class 'pandas.core.frame.DataFrame'>\n",
      "MultiIndex: 2533 entries, ('A Anisha', 28, 'female') to ('zmohammed', 30, 'female')\n",
      "Data columns (total 13 columns):\n",
      " #   Column                Non-Null Count  Dtype  \n",
      "---  ------                --------------  -----  \n",
      " 0   Age                   0 non-null      float64\n",
      " 1   Bmi                   2421 non-null   float64\n",
      " 2   Weight                70 non-null     float64\n",
      " 3   Diastolic             2134 non-null   float64\n",
      " 4   Systolic              0 non-null      float64\n",
      " 5   VitaminD              2 non-null      float64\n",
      " 6   Hb1ac                 2533 non-null   object \n",
      " 7   Glycated_haemoglobin  2239 non-null   float64\n",
      " 8   Hdl                   1046 non-null   float64\n",
      " 9   Ldl                   2026 non-null   float64\n",
      " 10  Vldl                  1927 non-null   float64\n",
      " 11  Triglycerides         9 non-null      float64\n",
      " 12  Total_cholestrol      0 non-null      float64\n",
      "dtypes: float64(12), object(1)\n",
      "memory usage: 287.4+ KB\n"
     ]
    }
   ],
   "source": [
    "data.Systolic = data.Systolic.astype(float)\n",
    "data.Total_cholestrol = data.Total_cholestrol.astype(float)\n",
    "data.Age = data.Age.astype(float)\n",
    "\n",
    "data.info()"
   ]
  },
  {
   "cell_type": "code",
   "execution_count": null,
   "metadata": {},
   "outputs": [],
   "source": []
  },
  {
   "cell_type": "code",
   "execution_count": null,
   "metadata": {},
   "outputs": [],
   "source": []
  },
  {
   "cell_type": "code",
   "execution_count": null,
   "metadata": {},
   "outputs": [],
   "source": []
  },
  {
   "cell_type": "code",
   "execution_count": null,
   "metadata": {},
   "outputs": [],
   "source": []
  },
  {
   "cell_type": "code",
   "execution_count": null,
   "metadata": {},
   "outputs": [],
   "source": []
  },
  {
   "cell_type": "code",
   "execution_count": null,
   "metadata": {},
   "outputs": [],
   "source": []
  },
  {
   "cell_type": "code",
   "execution_count": null,
   "metadata": {},
   "outputs": [],
   "source": []
  }
 ],
 "metadata": {
  "hide_input": false,
  "kernelspec": {
   "display_name": "Python 3",
   "language": "python",
   "name": "python3"
  },
  "language_info": {
   "codemirror_mode": {
    "name": "ipython",
    "version": 3
   },
   "file_extension": ".py",
   "mimetype": "text/x-python",
   "name": "python",
   "nbconvert_exporter": "python",
   "pygments_lexer": "ipython3",
   "version": "3.7.2"
  }
 },
 "nbformat": 4,
 "nbformat_minor": 2
}
