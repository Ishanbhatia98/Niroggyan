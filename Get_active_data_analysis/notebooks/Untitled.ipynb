{
 "cells": [
  {
   "cell_type": "markdown",
   "metadata": {},
   "source": [
    "<h1>Lisitng csv files to be merged<h1>"
   ]
  },
  {
   "cell_type": "code",
   "execution_count": 1,
   "metadata": {},
   "outputs": [],
   "source": [
    "from os import listdir as ld\n"
   ]
  },
  {
   "cell_type": "code",
   "execution_count": 2,
   "metadata": {},
   "outputs": [
    {
     "data": {
      "text/plain": [
       "['11awslogs1000.csv',\n",
       " '10awslogs1000.csv',\n",
       " '12awslogs1000.csv',\n",
       " '15awslogs1000.csv',\n",
       " '14awslogs1000.csv',\n",
       " '01awslogs1000.csv',\n",
       " '13awslogs1000.csv',\n",
       " '2awslogs1000.csv',\n",
       " '5awslogs1000.csv',\n",
       " '4awslogs1000.csv',\n",
       " '3awslogs1000.csv',\n",
       " '9awslogs1000.csv',\n",
       " '6awslogs1000.csv',\n",
       " '7awslogs1000.csv',\n",
       " '8awslogs1000.csv']"
      ]
     },
     "execution_count": 2,
     "metadata": {},
     "output_type": "execute_result"
    }
   ],
   "source": [
    "ext = 'getactive data/'\n",
    "files = [file for file in ld(ext)]\n",
    "files"
   ]
  },
  {
   "cell_type": "markdown",
   "metadata": {},
   "source": [
    "<h1>Merging csv files<h1>\n",
    "    "
   ]
  },
  {
   "cell_type": "code",
   "execution_count": 3,
   "metadata": {},
   "outputs": [],
   "source": [
    "#Reading Column Names from first file\n",
    "import pandas as pd\n",
    "df = pd.read_csv(ext+'01awslogs1000.csv')\n",
    "\n",
    "index = df.columns\n"
   ]
  },
  {
   "cell_type": "code",
   "execution_count": 4,
   "metadata": {},
   "outputs": [],
   "source": [
    "#Merging all data frames to one\n",
    "l = []\n",
    "count = 0\n",
    "for file in files:\n",
    "    if file!='01awslogs1000.csv':\n",
    "        df = pd.read_csv(ext+file, names=index)\n",
    "        count+=len(df)\n",
    "    else:\n",
    "        df = pd.read_csv(ext+file)\n",
    "        count+=len(df)\n",
    "    l.append(df)\n",
    "data = pd.concat(l)\n",
    "    \n",
    "    "
   ]
  },
  {
   "cell_type": "code",
   "execution_count": 5,
   "metadata": {},
   "outputs": [
    {
     "data": {
      "text/plain": [
       "145460"
      ]
     },
     "execution_count": 5,
     "metadata": {},
     "output_type": "execute_result"
    }
   ],
   "source": [
    "#check to see all rows copies\n",
    "assert(count==len(data))\n",
    "len(data)\n"
   ]
  },
  {
   "cell_type": "code",
   "execution_count": 6,
   "metadata": {},
   "outputs": [],
   "source": [
    "#Creaing merged csv\n",
    "data.to_csv('final.csv')"
   ]
  },
  {
   "cell_type": "markdown",
   "metadata": {},
   "source": [
    "<h1>Demographic Analysis<h1>"
   ]
  },
  {
   "cell_type": "code",
   "execution_count": 7,
   "metadata": {},
   "outputs": [
    {
     "data": {
      "text/html": [
       "<div>\n",
       "<style scoped>\n",
       "    .dataframe tbody tr th:only-of-type {\n",
       "        vertical-align: middle;\n",
       "    }\n",
       "\n",
       "    .dataframe tbody tr th {\n",
       "        vertical-align: top;\n",
       "    }\n",
       "\n",
       "    .dataframe thead th {\n",
       "        text-align: right;\n",
       "    }\n",
       "</style>\n",
       "<table border=\"1\" class=\"dataframe\">\n",
       "  <thead>\n",
       "    <tr style=\"text-align: right;\">\n",
       "      <th></th>\n",
       "      <th>NAME</th>\n",
       "      <th>AGE</th>\n",
       "      <th>GENDER</th>\n",
       "      <th>DATE</th>\n",
       "      <th>VALUE</th>\n",
       "      <th>LOW</th>\n",
       "      <th>HIGH</th>\n",
       "      <th>PARAM TEST</th>\n",
       "      <th>UNIT</th>\n",
       "      <th>ORDER_ID</th>\n",
       "    </tr>\n",
       "  </thead>\n",
       "  <tbody>\n",
       "    <tr>\n",
       "      <th>0</th>\n",
       "      <td>navaneeth.hariharan</td>\n",
       "      <td>24</td>\n",
       "      <td>male</td>\n",
       "      <td>25-07-2019</td>\n",
       "      <td>5.7</td>\n",
       "      <td>3.5</td>\n",
       "      <td>6</td>\n",
       "      <td>HbA1c, GLYCATED HEMOGLOBIN</td>\n",
       "      <td>%</td>\n",
       "      <td>6318</td>\n",
       "    </tr>\n",
       "    <tr>\n",
       "      <th>1</th>\n",
       "      <td>navaneeth.hariharan</td>\n",
       "      <td>24</td>\n",
       "      <td>male</td>\n",
       "      <td>25-07-2019</td>\n",
       "      <td>33</td>\n",
       "      <td>0</td>\n",
       "      <td>50</td>\n",
       "      <td>ALANINE AMINOTRANSFERASE (ALT/SGPT)</td>\n",
       "      <td>U/L</td>\n",
       "      <td>6318</td>\n",
       "    </tr>\n",
       "    <tr>\n",
       "      <th>2</th>\n",
       "      <td>navaneeth.hariharan</td>\n",
       "      <td>24</td>\n",
       "      <td>male</td>\n",
       "      <td>25-07-2019</td>\n",
       "      <td>4.2</td>\n",
       "      <td>3.5</td>\n",
       "      <td>5</td>\n",
       "      <td>ALBUMIN</td>\n",
       "      <td>g/dL</td>\n",
       "      <td>6318</td>\n",
       "    </tr>\n",
       "    <tr>\n",
       "      <th>3</th>\n",
       "      <td>navaneeth.hariharan</td>\n",
       "      <td>24</td>\n",
       "      <td>male</td>\n",
       "      <td>25-07-2019</td>\n",
       "      <td>58</td>\n",
       "      <td>40</td>\n",
       "      <td>80</td>\n",
       "      <td>NEUTROPHILS %</td>\n",
       "      <td>%</td>\n",
       "      <td>6318</td>\n",
       "    </tr>\n",
       "    <tr>\n",
       "      <th>4</th>\n",
       "      <td>navaneeth.hariharan</td>\n",
       "      <td>24</td>\n",
       "      <td>male</td>\n",
       "      <td>25-07-2019</td>\n",
       "      <td>26</td>\n",
       "      <td>19</td>\n",
       "      <td>43</td>\n",
       "      <td>UREA</td>\n",
       "      <td>mg/dL</td>\n",
       "      <td>6318</td>\n",
       "    </tr>\n",
       "  </tbody>\n",
       "</table>\n",
       "</div>"
      ],
      "text/plain": [
       "                  NAME  AGE GENDER        DATE VALUE  LOW HIGH  \\\n",
       "0  navaneeth.hariharan   24   male  25-07-2019   5.7  3.5    6   \n",
       "1  navaneeth.hariharan   24   male  25-07-2019    33    0   50   \n",
       "2  navaneeth.hariharan   24   male  25-07-2019   4.2  3.5    5   \n",
       "3  navaneeth.hariharan   24   male  25-07-2019    58   40   80   \n",
       "4  navaneeth.hariharan   24   male  25-07-2019    26   19   43   \n",
       "\n",
       "                            PARAM TEST   UNIT  ORDER_ID  \n",
       "0           HbA1c, GLYCATED HEMOGLOBIN      %      6318  \n",
       "1  ALANINE AMINOTRANSFERASE (ALT/SGPT)    U/L      6318  \n",
       "2                              ALBUMIN   g/dL      6318  \n",
       "3                        NEUTROPHILS %      %      6318  \n",
       "4                                 UREA  mg/dL      6318  "
      ]
     },
     "execution_count": 7,
     "metadata": {},
     "output_type": "execute_result"
    }
   ],
   "source": [
    "data.head()"
   ]
  },
  {
   "cell_type": "code",
   "execution_count": 8,
   "metadata": {},
   "outputs": [
    {
     "data": {
      "text/plain": [
       "AGE\n",
       "21        840\n",
       "22       3029\n",
       "23       4599\n",
       "24      17881\n",
       "25       8892\n",
       "26       7664\n",
       "27      11111\n",
       "28       9879\n",
       "29       8889\n",
       "30      12183\n",
       "31       6870\n",
       "32       6717\n",
       "33      12730\n",
       "34       5092\n",
       "35       4124\n",
       "36       4102\n",
       "37       3759\n",
       "38       5625\n",
       "39       2070\n",
       "40       1774\n",
       "41       1926\n",
       "42        971\n",
       "43        916\n",
       "44        737\n",
       "45       1431\n",
       "46        403\n",
       "47        328\n",
       "48        119\n",
       "50         56\n",
       "52        116\n",
       "53        228\n",
       "55         57\n",
       "56         57\n",
       "60         57\n",
       "100       171\n",
       "1042       57\n",
       "dtype: int64"
      ]
     },
     "execution_count": 8,
     "metadata": {},
     "output_type": "execute_result"
    }
   ],
   "source": [
    "data.groupby(data.AGE).size()"
   ]
  },
  {
   "cell_type": "code",
   "execution_count": 9,
   "metadata": {},
   "outputs": [
    {
     "data": {
      "text/plain": [
       "NAME\n",
       "A Anisha             52\n",
       "A Bhanu              52\n",
       "A ROMIO SINGH        52\n",
       "ABHISHEK KASHYAP     57\n",
       "AJAY BENJWAL          5\n",
       "                   ... \n",
       "yedluri.divya       102\n",
       "yezdani.mohammad     52\n",
       "yogeshwari.m         52\n",
       "ysswamy              50\n",
       "zmohammed            52\n",
       "Length: 2527, dtype: int64"
      ]
     },
     "execution_count": 9,
     "metadata": {},
     "output_type": "execute_result"
    }
   ],
   "source": [
    "data.groupby(data.NAME).size()"
   ]
  },
  {
   "cell_type": "code",
   "execution_count": 10,
   "metadata": {
    "run_control": {
     "marked": true
    }
   },
   "outputs": [],
   "source": [
    "data.DATE = pd.to_datetime(data.DATE)"
   ]
  },
  {
   "cell_type": "code",
   "execution_count": 11,
   "metadata": {},
   "outputs": [
    {
     "name": "stdout",
     "output_type": "stream",
     "text": [
      "<class 'pandas.core.frame.DataFrame'>\n",
      "Int64Index: 145460 entries, 0 to 9999\n",
      "Data columns (total 10 columns):\n",
      " #   Column      Non-Null Count   Dtype         \n",
      "---  ------      --------------   -----         \n",
      " 0   NAME        145460 non-null  object        \n",
      " 1   AGE         145460 non-null  int64         \n",
      " 2   GENDER      145460 non-null  object        \n",
      " 3   DATE        145460 non-null  datetime64[ns]\n",
      " 4   VALUE       145392 non-null  object        \n",
      " 5   LOW         145460 non-null  object        \n",
      " 6   HIGH        145460 non-null  object        \n",
      " 7   PARAM TEST  145460 non-null  object        \n",
      " 8   UNIT        137159 non-null  object        \n",
      " 9   ORDER_ID    145460 non-null  int64         \n",
      "dtypes: datetime64[ns](1), int64(2), object(7)\n",
      "memory usage: 12.2+ MB\n"
     ]
    }
   ],
   "source": [
    "data.info()"
   ]
  },
  {
   "cell_type": "code",
   "execution_count": 12,
   "metadata": {},
   "outputs": [
    {
     "data": {
      "text/html": [
       "<div>\n",
       "<style scoped>\n",
       "    .dataframe tbody tr th:only-of-type {\n",
       "        vertical-align: middle;\n",
       "    }\n",
       "\n",
       "    .dataframe tbody tr th {\n",
       "        vertical-align: top;\n",
       "    }\n",
       "\n",
       "    .dataframe thead th {\n",
       "        text-align: right;\n",
       "    }\n",
       "</style>\n",
       "<table border=\"1\" class=\"dataframe\">\n",
       "  <thead>\n",
       "    <tr style=\"text-align: right;\">\n",
       "      <th></th>\n",
       "      <th>NAME</th>\n",
       "      <th>AGE</th>\n",
       "      <th>GENDER</th>\n",
       "      <th>DATE</th>\n",
       "      <th>VALUE</th>\n",
       "      <th>LOW</th>\n",
       "      <th>HIGH</th>\n",
       "      <th>PARAM TEST</th>\n",
       "      <th>UNIT</th>\n",
       "      <th>ORDER_ID</th>\n",
       "    </tr>\n",
       "  </thead>\n",
       "  <tbody>\n",
       "    <tr>\n",
       "      <th>0</th>\n",
       "      <td>navaneeth.hariharan</td>\n",
       "      <td>24</td>\n",
       "      <td>male</td>\n",
       "      <td>2019-07-25</td>\n",
       "      <td>5.7</td>\n",
       "      <td>3.5</td>\n",
       "      <td>6</td>\n",
       "      <td>HbA1c, GLYCATED HEMOGLOBIN</td>\n",
       "      <td>%</td>\n",
       "      <td>6318</td>\n",
       "    </tr>\n",
       "    <tr>\n",
       "      <th>1</th>\n",
       "      <td>navaneeth.hariharan</td>\n",
       "      <td>24</td>\n",
       "      <td>male</td>\n",
       "      <td>2019-07-25</td>\n",
       "      <td>33</td>\n",
       "      <td>0</td>\n",
       "      <td>50</td>\n",
       "      <td>ALANINE AMINOTRANSFERASE (ALT/SGPT)</td>\n",
       "      <td>U/L</td>\n",
       "      <td>6318</td>\n",
       "    </tr>\n",
       "    <tr>\n",
       "      <th>2</th>\n",
       "      <td>navaneeth.hariharan</td>\n",
       "      <td>24</td>\n",
       "      <td>male</td>\n",
       "      <td>2019-07-25</td>\n",
       "      <td>4.2</td>\n",
       "      <td>3.5</td>\n",
       "      <td>5</td>\n",
       "      <td>ALBUMIN</td>\n",
       "      <td>g/dL</td>\n",
       "      <td>6318</td>\n",
       "    </tr>\n",
       "    <tr>\n",
       "      <th>3</th>\n",
       "      <td>navaneeth.hariharan</td>\n",
       "      <td>24</td>\n",
       "      <td>male</td>\n",
       "      <td>2019-07-25</td>\n",
       "      <td>58</td>\n",
       "      <td>40</td>\n",
       "      <td>80</td>\n",
       "      <td>NEUTROPHILS %</td>\n",
       "      <td>%</td>\n",
       "      <td>6318</td>\n",
       "    </tr>\n",
       "    <tr>\n",
       "      <th>4</th>\n",
       "      <td>navaneeth.hariharan</td>\n",
       "      <td>24</td>\n",
       "      <td>male</td>\n",
       "      <td>2019-07-25</td>\n",
       "      <td>26</td>\n",
       "      <td>19</td>\n",
       "      <td>43</td>\n",
       "      <td>UREA</td>\n",
       "      <td>mg/dL</td>\n",
       "      <td>6318</td>\n",
       "    </tr>\n",
       "  </tbody>\n",
       "</table>\n",
       "</div>"
      ],
      "text/plain": [
       "                  NAME  AGE GENDER       DATE VALUE  LOW HIGH  \\\n",
       "0  navaneeth.hariharan   24   male 2019-07-25   5.7  3.5    6   \n",
       "1  navaneeth.hariharan   24   male 2019-07-25    33    0   50   \n",
       "2  navaneeth.hariharan   24   male 2019-07-25   4.2  3.5    5   \n",
       "3  navaneeth.hariharan   24   male 2019-07-25    58   40   80   \n",
       "4  navaneeth.hariharan   24   male 2019-07-25    26   19   43   \n",
       "\n",
       "                            PARAM TEST   UNIT  ORDER_ID  \n",
       "0           HbA1c, GLYCATED HEMOGLOBIN      %      6318  \n",
       "1  ALANINE AMINOTRANSFERASE (ALT/SGPT)    U/L      6318  \n",
       "2                              ALBUMIN   g/dL      6318  \n",
       "3                        NEUTROPHILS %      %      6318  \n",
       "4                                 UREA  mg/dL      6318  "
      ]
     },
     "execution_count": 12,
     "metadata": {},
     "output_type": "execute_result"
    }
   ],
   "source": [
    "data.head()"
   ]
  },
  {
   "cell_type": "code",
   "execution_count": 13,
   "metadata": {},
   "outputs": [
    {
     "data": {
      "text/plain": [
       "0       navaneeth.hariharan\n",
       "451               Padmini P\n",
       "607           Shafaque Meer\n",
       "820                Sushma L\n",
       "872          Ankitha Verrma\n",
       "               ...         \n",
       "9138             r.mahender\n",
       "9346               Megha.ds\n",
       "9398               Kishor G\n",
       "9764        marysnehathomas\n",
       "9816      Arshiya Muhammadi\n",
       "Name: NAME, Length: 470, dtype: object"
      ]
     },
     "execution_count": 13,
     "metadata": {},
     "output_type": "execute_result"
    }
   ],
   "source": [
    "data[(data.AGE > 60) | (data.AGE < 25)].NAME.drop_duplicates()"
   ]
  },
  {
   "cell_type": "code",
   "execution_count": 14,
   "metadata": {},
   "outputs": [],
   "source": [
    "#view all rows!!\n",
    "pd.set_option('display.max_rows', 500)"
   ]
  },
  {
   "cell_type": "code",
   "execution_count": 15,
   "metadata": {},
   "outputs": [],
   "source": [
    "#create dictionary for param_test->hash code\n",
    "test_list = data['PARAM TEST'].unique()"
   ]
  },
  {
   "cell_type": "code",
   "execution_count": 16,
   "metadata": {},
   "outputs": [],
   "source": [
    "#Creating dicitonary hash->Param name\n",
    "d = dict()\n",
    "\n",
    "\n",
    "for i in test_list:\n",
    "    h = str(abs(hash(i)))\n",
    "    #print(int(h[:6]))\n",
    "    d[int(h[:6])] = i"
   ]
  },
  {
   "cell_type": "code",
   "execution_count": 17,
   "metadata": {},
   "outputs": [],
   "source": [
    "with open('test_list_dict.txt', 'w') as f:\n",
    "    for k, v in d.items():\n",
    "        f.write(f'{k},{v} \\n')"
   ]
  },
  {
   "cell_type": "code",
   "execution_count": 18,
   "metadata": {},
   "outputs": [],
   "source": [
    "#classification according to ge\n",
    "\n",
    "child = data[data.AGE < 16]\n",
    "youngAdult = data[(data.AGE >=16) & (data.AGE<=30)]\n",
    "midAdult = data[(data.AGE>=31) & (data.AGE<=50)]\n",
    "oldAdult = data[(data.AGE>=51) & (data.AGE<=70)]\n",
    "old = data[data.AGE >=71]"
   ]
  },
  {
   "cell_type": "code",
   "execution_count": 19,
   "metadata": {},
   "outputs": [],
   "source": [
    "#classification according to gender in age cohorts\n",
    "m, f = 'male', 'female'\n",
    "\n",
    "child_m = child[child.GENDER==m]\n",
    "child_f = child[child.GENDER==f]\n",
    "\n",
    "youngAdult_m = youngAdult[youngAdult.GENDER==m]\n",
    "youngAdult_f = youngAdult[youngAdult.GENDER==f]\n",
    "\n",
    "midAdult_m = midAdult[midAdult.GENDER==m]\n",
    "midAdult_f = midAdult[midAdult.GENDER==f]\n",
    "\n",
    "oldAdult_m = oldAdult[oldAdult.GENDER==m]\n",
    "oldAdult_f = oldAdult[oldAdult.GENDER==f]\n",
    "\n",
    "old_m = old[old.GENDER==m]\n",
    "old_f = old[old.GENDER==f]\n"
   ]
  },
  {
   "cell_type": "code",
   "execution_count": 20,
   "metadata": {},
   "outputs": [],
   "source": [
    "#check\n",
    "assert len(old) + len(oldAdult) + len(midAdult) + len(youngAdult) + len(child) == len(data)\n",
    "\n",
    "assert len(child_m)+len(child_f) == len(child)\n",
    "assert len(youngAdult_m)+len(youngAdult_f) == len(youngAdult)\n",
    "assert len(midAdult_m)+len(midAdult_f) == len(midAdult)\n",
    "assert len(oldAdult_m)+len(oldAdult_f) == len(oldAdult)\n",
    "assert len(old_m)+len(old_f) == len(old)\n",
    "\n"
   ]
  },
  {
   "cell_type": "code",
   "execution_count": null,
   "metadata": {},
   "outputs": [],
   "source": [
    " "
   ]
  }
 ],
 "metadata": {
  "hide_input": false,
  "kernelspec": {
   "display_name": "Python 3",
   "language": "python",
   "name": "python3"
  },
  "language_info": {
   "codemirror_mode": {
    "name": "ipython",
    "version": 3
   },
   "file_extension": ".py",
   "mimetype": "text/x-python",
   "name": "python",
   "nbconvert_exporter": "python",
   "pygments_lexer": "ipython3",
   "version": "3.7.2"
  }
 },
 "nbformat": 4,
 "nbformat_minor": 2
}
