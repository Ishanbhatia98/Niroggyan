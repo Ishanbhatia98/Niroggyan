{
 "cells": [
  {
   "cell_type": "code",
   "execution_count": 1,
   "metadata": {},
   "outputs": [],
   "source": [
    "import pandas as pd\n",
    "import numpy as np\n",
    "\n",
    "import warnings\n",
    "warnings.filterwarnings('ignore')\n",
    "\n",
    "import seaborn as sns\n",
    "from matplotlib import pyplot as plt\n",
    "import matplotlib\n",
    "\n",
    "from numpy import median, mean\n",
    "import statistics\n",
    "%matplotlib inline\n",
    "\n",
    "#add more imports here"
   ]
  },
  {
   "cell_type": "code",
   "execution_count": 3,
   "metadata": {},
   "outputs": [],
   "source": [
    "#create dataframe here\n",
    "path = '/Users/ishan/desktop/niroggyan/get_active_data_analysis/data/'\n",
    "data = pd.read_csv(path + 'final.csv')"
   ]
  },
  {
   "cell_type": "code",
   "execution_count": 5,
   "metadata": {},
   "outputs": [
    {
     "data": {
      "text/plain": [
       "['HbA1c, GLYCATED HEMOGLOBIN',\n",
       " 'ALANINE AMINOTRANSFERASE (ALT/SGPT)',\n",
       " 'ALBUMIN',\n",
       " 'NEUTROPHILS %',\n",
       " 'UREA',\n",
       " 'TOTAL CHOLESTEROL',\n",
       " 'HEIGHT',\n",
       " 'PROTEIN, TOTAL',\n",
       " 'Diastolic',\n",
       " 'URIC ACID',\n",
       " 'CHOL / HDL RATIO',\n",
       " 'MCH',\n",
       " 'PLATELET COUNT',\n",
       " 'LYMPHOCYTES %',\n",
       " 'CREATININE',\n",
       " 'PERIPHERAL SMEAR',\n",
       " 'LYMPHOCYTES',\n",
       " 'TOTAL LEUCOCYTE COUNT (TLC)',\n",
       " 'MCV',\n",
       " 'HAEMOGLOBIN',\n",
       " 'RBC COUNT',\n",
       " 'NEUTROPHILS',\n",
       " 'BILIRUBIN (INDIRECT)',\n",
       " 'GLOBULIN',\n",
       " 'R.D.W-CV',\n",
       " 'BILIRUBIN CONJUGATED (DIRECT)',\n",
       " 'WEIGHT',\n",
       " 'VLDL CHOLESTEROL',\n",
       " 'BASOPHILS %',\n",
       " 'MONOCYTES %',\n",
       " 'MONOCYTES',\n",
       " 'TSH',\n",
       " 'GAMMA GLUTAMYL TRANSPEPTIDASE (GGT)',\n",
       " 'GLUCOSE, FASTING',\n",
       " 'LDL CHOLESTEROL',\n",
       " 'ASPARTATE AMINOTRANSFERASE (AST/SGOT)',\n",
       " 'R.D.W-SD',\n",
       " 'EOSINOPHILS %',\n",
       " 'MCHC',\n",
       " 'Systolic',\n",
       " 'HDL CHOLESTEROL',\n",
       " 'PCV',\n",
       " 'EOSINOPHILS',\n",
       " 'BILIRUBIN, TOTAL',\n",
       " 'TRIGLYCERIDES',\n",
       " 'ESR (ERYTHROCYTE SEDIMENTATION RATE)',\n",
       " 'A/G RATIO',\n",
       " 'ALKALINE PHOSPHATASE',\n",
       " 'BODY MASS INDEX',\n",
       " 'BASOPHILS',\n",
       " 'ESTIMATED AVERAGE GLUCOSE (eAG)',\n",
       " 'BLOOD UREA NITROGEN',\n",
       " 'TRI-IODOTHYRONINE (T3, TOTAL)',\n",
       " 'PHOSPHORUS, INORGANIC',\n",
       " 'CALCIUM',\n",
       " 'THYROXINE (T4, TOTAL)',\n",
       " 'HS-CRP (HIGH SENSITIVITY C-REACTIVE PROTEIN)',\n",
       " 'VITAMIN D (25 - OH VITAMIN D)',\n",
       " 'UREA- FOR FORMULAE',\n",
       " 'VITAMIN B12',\n",
       " 'RBC',\n",
       " 'GLUCOSE',\n",
       " 'NITRITE',\n",
       " 'COLOUR',\n",
       " 'BLOOD',\n",
       " 'UROBILINOGEN',\n",
       " 'VOLUME',\n",
       " 'EPITHELIAL CELLS',\n",
       " 'URINE PROTEIN',\n",
       " 'CRYSTALS',\n",
       " 'CASTS',\n",
       " 'URINE BILIRUBIN',\n",
       " 'PUS CELLS',\n",
       " 'YEAST',\n",
       " 'TRANSPARENCY',\n",
       " 'pH',\n",
       " 'BACTERIA',\n",
       " 'SP. GRAVITY',\n",
       " 'KETONES',\n",
       " 'OTHERS',\n",
       " 'Electrocardiogram (ECG)']"
      ]
     },
     "execution_count": 5,
     "metadata": {},
     "output_type": "execute_result"
    }
   ],
   "source": [
    "list(data['PARAM TEST'].unique())"
   ]
  },
  {
   "cell_type": "code",
   "execution_count": 6,
   "metadata": {},
   "outputs": [],
   "source": [
    "new = pd.pivot_table(data, values='VALUE', index=['NAME', 'AGE', 'GENDER'],\n",
    "                    columns=['PARAM TEST'], aggfunc=np.sum, fill_value=0)\n",
    "\n",
    "#ADD column names you need to the list below(except name, age and gender)\n",
    "columns = ['HEIGHT', 'WEIGHT', 'VITAMIN D (25 - OH VITAMIN D)']\n",
    "data = new[columns]"
   ]
  },
  {
   "cell_type": "code",
   "execution_count": 7,
   "metadata": {},
   "outputs": [
    {
     "name": "stdout",
     "output_type": "stream",
     "text": [
      "<class 'pandas.core.frame.DataFrame'>\n",
      "MultiIndex: 2534 entries, ('A Anisha', 28, 'female') to ('zmohammed', 30, 'female')\n",
      "Data columns (total 3 columns):\n",
      " #   Column                         Non-Null Count  Dtype \n",
      "---  ------                         --------------  ----- \n",
      " 0   HEIGHT                         2534 non-null   object\n",
      " 1   WEIGHT                         2534 non-null   object\n",
      " 2   VITAMIN D (25 - OH VITAMIN D)  2534 non-null   object\n",
      "dtypes: object(3)\n",
      "memory usage: 89.5+ KB\n"
     ]
    }
   ],
   "source": [
    "#verify dtypes of columns before conversion\n",
    "data.info()"
   ]
  },
  {
   "cell_type": "code",
   "execution_count": 10,
   "metadata": {},
   "outputs": [],
   "source": [
    "#Adding gender\n",
    "l = []\n",
    "for i in data.index:\n",
    "    l.append(i[2])\n",
    "data['Gender'] = l\n",
    "\n",
    "#Adding age\n",
    "a = []\n",
    "for i in data.index:\n",
    "    a.append(int(i[1]))\n",
    "data['Age'] = a\n",
    "\n",
    "data = data[['Age', 'Gender']+columns]"
   ]
  },
  {
   "cell_type": "code",
   "execution_count": null,
   "metadata": {},
   "outputs": [],
   "source": [
    "'''\n",
    "#add new_columns names here orederwise\n",
    "new_columns = []\n",
    "for col in columns:\n",
    "    print('Change column name of ', col)\n",
    "    print('Enter new column name')\n",
    "    c = input()\n",
    "    new_columns.append(c)\n",
    "    \n",
    "data.columns = ['Age', 'Gender'] + new_columns \n",
    "'''"
   ]
  },
  {
   "cell_type": "code",
   "execution_count": 11,
   "metadata": {},
   "outputs": [],
   "source": [
    "def convert(s):\n",
    "    s = str(s)\n",
    "    try:\n",
    "        if '.' in s:\n",
    "            i = s.index('.')\n",
    "            return float(s[:(i+2)])\n",
    "        elif '<'  in s:\n",
    "            i = s.index('<')\n",
    "            print(s[(i+1):])\n",
    "            return float(s[(i+1):])\n",
    "        elif '>' in s:\n",
    "            i = s.index('>')\n",
    "            return float(s[(i+1):])\n",
    "    except:\n",
    "        return float(s)\n",
    "    "
   ]
  },
  {
   "cell_type": "code",
   "execution_count": 12,
   "metadata": {},
   "outputs": [
    {
     "name": "stdout",
     "output_type": "stream",
     "text": [
      "VITAMIN D (25 - OH VITAMIN D)\n"
     ]
    }
   ],
   "source": [
    "#add column names to convert to float datatype\n",
    "conv_cols =  ['Age', 'Gender', 'VITAMIN D (25 - OH VITAMIN D)']\n",
    "\n",
    "for col in conv_cols:\n",
    "    try:\n",
    "        data = data[data[col]!='Not Required']\n",
    "        data[col] = data[col].map(lambda s: convert(s))\n",
    "    except:\n",
    "        print(col)"
   ]
  },
  {
   "cell_type": "code",
   "execution_count": 16,
   "metadata": {},
   "outputs": [
    {
     "name": "stdout",
     "output_type": "stream",
     "text": [
      "<class 'pandas.core.frame.DataFrame'>\n",
      "MultiIndex: 2534 entries, ('A Anisha', 28, 'female') to ('zmohammed', 30, 'female')\n",
      "Data columns (total 5 columns):\n",
      " #   Column                         Non-Null Count  Dtype \n",
      "---  ------                         --------------  ----- \n",
      " 0   Age                            0 non-null      object\n",
      " 1   Gender                         0 non-null      object\n",
      " 2   HEIGHT                         2534 non-null   object\n",
      " 3   WEIGHT                         2534 non-null   object\n",
      " 4   VITAMIN D (25 - OH VITAMIN D)  2534 non-null   object\n",
      "dtypes: object(5)\n",
      "memory usage: 129.1+ KB\n"
     ]
    }
   ],
   "source": [
    "data.info()"
   ]
  },
  {
   "cell_type": "code",
   "execution_count": null,
   "metadata": {},
   "outputs": [],
   "source": []
  }
 ],
 "metadata": {
  "hide_input": false,
  "kernelspec": {
   "display_name": "Python 3",
   "language": "python",
   "name": "python3"
  },
  "language_info": {
   "codemirror_mode": {
    "name": "ipython",
    "version": 3
   },
   "file_extension": ".py",
   "mimetype": "text/x-python",
   "name": "python",
   "nbconvert_exporter": "python",
   "pygments_lexer": "ipython3",
   "version": "3.7.2"
  }
 },
 "nbformat": 4,
 "nbformat_minor": 2
}
