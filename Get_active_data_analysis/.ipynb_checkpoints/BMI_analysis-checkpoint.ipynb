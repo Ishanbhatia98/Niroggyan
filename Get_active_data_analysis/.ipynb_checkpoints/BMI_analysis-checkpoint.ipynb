{
 "cells": [
  {
   "cell_type": "code",
   "execution_count": 25,
   "metadata": {},
   "outputs": [],
   "source": [
    "import pandas as pd\n",
    "import numpy as np\n",
    "\n",
    "import warnings\n",
    "warnings.filterwarnings('ignore')\n",
    "\n",
    "import seaborn as sns\n",
    "from matplotlib import pyplot as plt\n",
    "import matplotlib\n",
    "%matplotlib inline"
   ]
  },
  {
   "cell_type": "markdown",
   "metadata": {},
   "source": [
    "<h1> Getting BMI data<h1>"
   ]
  },
  {
   "cell_type": "code",
   "execution_count": 26,
   "metadata": {},
   "outputs": [],
   "source": [
    "data = pd.read_csv('final.csv')"
   ]
  },
  {
   "cell_type": "code",
   "execution_count": 27,
   "metadata": {},
   "outputs": [
    {
     "name": "stdout",
     "output_type": "stream",
     "text": [
      "<class 'pandas.core.frame.DataFrame'>\n",
      "MultiIndex: 2534 entries, ('A Anisha', 28, 'female') to ('zmohammed', 30, 'female')\n",
      "Data columns (total 3 columns):\n",
      " #   Column  Non-Null Count  Dtype \n",
      "---  ------  --------------  ----- \n",
      " 0   BMI     2534 non-null   object\n",
      " 1   Height  2534 non-null   object\n",
      " 2   Weight  2534 non-null   object\n",
      "dtypes: object(3)\n",
      "memory usage: 89.5+ KB\n"
     ]
    }
   ],
   "source": [
    "new = pd.pivot_table(data, values='VALUE', index=['NAME', 'AGE', 'GENDER'],\n",
    "                    columns=['PARAM TEST'], aggfunc=np.sum, fill_value=0)\n",
    "bmi = new[['BODY MASS INDEX','HEIGHT','WEIGHT']]\n",
    "bmi.columns = ['BMI','Height', 'Weight']\n",
    "bmi.info()"
   ]
  },
  {
   "cell_type": "code",
   "execution_count": 28,
   "metadata": {},
   "outputs": [
    {
     "data": {
      "text/html": [
       "<div>\n",
       "<style scoped>\n",
       "    .dataframe tbody tr th:only-of-type {\n",
       "        vertical-align: middle;\n",
       "    }\n",
       "\n",
       "    .dataframe tbody tr th {\n",
       "        vertical-align: top;\n",
       "    }\n",
       "\n",
       "    .dataframe thead th {\n",
       "        text-align: right;\n",
       "    }\n",
       "</style>\n",
       "<table border=\"1\" class=\"dataframe\">\n",
       "  <thead>\n",
       "    <tr style=\"text-align: right;\">\n",
       "      <th></th>\n",
       "      <th></th>\n",
       "      <th></th>\n",
       "      <th>BMI</th>\n",
       "      <th>Height</th>\n",
       "      <th>Weight</th>\n",
       "      <th>Gender</th>\n",
       "    </tr>\n",
       "    <tr>\n",
       "      <th>NAME</th>\n",
       "      <th>AGE</th>\n",
       "      <th>GENDER</th>\n",
       "      <th></th>\n",
       "      <th></th>\n",
       "      <th></th>\n",
       "      <th></th>\n",
       "    </tr>\n",
       "  </thead>\n",
       "  <tbody>\n",
       "    <tr>\n",
       "      <th>A Anisha</th>\n",
       "      <th>28</th>\n",
       "      <th>female</th>\n",
       "      <td>31.47</td>\n",
       "      <td>155</td>\n",
       "      <td>75.6</td>\n",
       "      <td>female</td>\n",
       "    </tr>\n",
       "    <tr>\n",
       "      <th>A Bhanu</th>\n",
       "      <th>31</th>\n",
       "      <th>male</th>\n",
       "      <td>25.58</td>\n",
       "      <td>168</td>\n",
       "      <td>72.2</td>\n",
       "      <td>male</td>\n",
       "    </tr>\n",
       "    <tr>\n",
       "      <th>A ROMIO SINGH</th>\n",
       "      <th>30</th>\n",
       "      <th>male</th>\n",
       "      <td>25.48</td>\n",
       "      <td>163</td>\n",
       "      <td>67.7</td>\n",
       "      <td>male</td>\n",
       "    </tr>\n",
       "    <tr>\n",
       "      <th>ABHISHEK KASHYAP</th>\n",
       "      <th>36</th>\n",
       "      <th>male</th>\n",
       "      <td>29</td>\n",
       "      <td>171</td>\n",
       "      <td>84.8</td>\n",
       "      <td>male</td>\n",
       "    </tr>\n",
       "    <tr>\n",
       "      <th>AJAY BENJWAL</th>\n",
       "      <th>28</th>\n",
       "      <th>male</th>\n",
       "      <td>24.25</td>\n",
       "      <td>171</td>\n",
       "      <td>70.9</td>\n",
       "      <td>male</td>\n",
       "    </tr>\n",
       "  </tbody>\n",
       "</table>\n",
       "</div>"
      ],
      "text/plain": [
       "                               BMI Height Weight  Gender\n",
       "NAME             AGE GENDER                             \n",
       "A Anisha         28  female  31.47    155   75.6  female\n",
       "A Bhanu          31  male    25.58    168   72.2    male\n",
       "A ROMIO SINGH    30  male    25.48    163   67.7    male\n",
       "ABHISHEK KASHYAP 36  male       29    171   84.8    male\n",
       "AJAY BENJWAL     28  male    24.25    171   70.9    male"
      ]
     },
     "execution_count": 28,
     "metadata": {},
     "output_type": "execute_result"
    }
   ],
   "source": [
    "#Adding gender\n",
    "l = []\n",
    "for i in bmi.index:\n",
    "    l.append(i[2])\n",
    "\n",
    "\n",
    "bmi['Gender'] = l\n",
    "bmi.head()"
   ]
  },
  {
   "cell_type": "code",
   "execution_count": 29,
   "metadata": {},
   "outputs": [
    {
     "data": {
      "text/html": [
       "<div>\n",
       "<style scoped>\n",
       "    .dataframe tbody tr th:only-of-type {\n",
       "        vertical-align: middle;\n",
       "    }\n",
       "\n",
       "    .dataframe tbody tr th {\n",
       "        vertical-align: top;\n",
       "    }\n",
       "\n",
       "    .dataframe thead th {\n",
       "        text-align: right;\n",
       "    }\n",
       "</style>\n",
       "<table border=\"1\" class=\"dataframe\">\n",
       "  <thead>\n",
       "    <tr style=\"text-align: right;\">\n",
       "      <th></th>\n",
       "      <th></th>\n",
       "      <th></th>\n",
       "      <th>BMI</th>\n",
       "      <th>Height</th>\n",
       "      <th>Weight</th>\n",
       "      <th>Gender</th>\n",
       "      <th>Age</th>\n",
       "    </tr>\n",
       "    <tr>\n",
       "      <th>NAME</th>\n",
       "      <th>AGE</th>\n",
       "      <th>GENDER</th>\n",
       "      <th></th>\n",
       "      <th></th>\n",
       "      <th></th>\n",
       "      <th></th>\n",
       "      <th></th>\n",
       "    </tr>\n",
       "  </thead>\n",
       "  <tbody>\n",
       "    <tr>\n",
       "      <th>A Anisha</th>\n",
       "      <th>28</th>\n",
       "      <th>female</th>\n",
       "      <td>31.47</td>\n",
       "      <td>155</td>\n",
       "      <td>75.6</td>\n",
       "      <td>female</td>\n",
       "      <td>28</td>\n",
       "    </tr>\n",
       "    <tr>\n",
       "      <th>A Bhanu</th>\n",
       "      <th>31</th>\n",
       "      <th>male</th>\n",
       "      <td>25.58</td>\n",
       "      <td>168</td>\n",
       "      <td>72.2</td>\n",
       "      <td>male</td>\n",
       "      <td>31</td>\n",
       "    </tr>\n",
       "    <tr>\n",
       "      <th>A ROMIO SINGH</th>\n",
       "      <th>30</th>\n",
       "      <th>male</th>\n",
       "      <td>25.48</td>\n",
       "      <td>163</td>\n",
       "      <td>67.7</td>\n",
       "      <td>male</td>\n",
       "      <td>30</td>\n",
       "    </tr>\n",
       "    <tr>\n",
       "      <th>ABHISHEK KASHYAP</th>\n",
       "      <th>36</th>\n",
       "      <th>male</th>\n",
       "      <td>29</td>\n",
       "      <td>171</td>\n",
       "      <td>84.8</td>\n",
       "      <td>male</td>\n",
       "      <td>36</td>\n",
       "    </tr>\n",
       "    <tr>\n",
       "      <th>AJAY BENJWAL</th>\n",
       "      <th>28</th>\n",
       "      <th>male</th>\n",
       "      <td>24.25</td>\n",
       "      <td>171</td>\n",
       "      <td>70.9</td>\n",
       "      <td>male</td>\n",
       "      <td>28</td>\n",
       "    </tr>\n",
       "  </tbody>\n",
       "</table>\n",
       "</div>"
      ],
      "text/plain": [
       "                               BMI Height Weight  Gender  Age\n",
       "NAME             AGE GENDER                                  \n",
       "A Anisha         28  female  31.47    155   75.6  female   28\n",
       "A Bhanu          31  male    25.58    168   72.2    male   31\n",
       "A ROMIO SINGH    30  male    25.48    163   67.7    male   30\n",
       "ABHISHEK KASHYAP 36  male       29    171   84.8    male   36\n",
       "AJAY BENJWAL     28  male    24.25    171   70.9    male   28"
      ]
     },
     "execution_count": 29,
     "metadata": {},
     "output_type": "execute_result"
    }
   ],
   "source": [
    "#Adding age\n",
    "a = []\n",
    "for i in bmi.index:\n",
    "    a.append(int(i[1]))\n",
    "bmi['Age'] = a\n",
    "bmi.head()"
   ]
  },
  {
   "cell_type": "code",
   "execution_count": 30,
   "metadata": {
    "run_control": {
     "marked": true
    }
   },
   "outputs": [
    {
     "data": {
      "text/html": [
       "<div>\n",
       "<style scoped>\n",
       "    .dataframe tbody tr th:only-of-type {\n",
       "        vertical-align: middle;\n",
       "    }\n",
       "\n",
       "    .dataframe tbody tr th {\n",
       "        vertical-align: top;\n",
       "    }\n",
       "\n",
       "    .dataframe thead th {\n",
       "        text-align: right;\n",
       "    }\n",
       "</style>\n",
       "<table border=\"1\" class=\"dataframe\">\n",
       "  <thead>\n",
       "    <tr style=\"text-align: right;\">\n",
       "      <th></th>\n",
       "      <th></th>\n",
       "      <th></th>\n",
       "      <th>Age</th>\n",
       "      <th>Gender</th>\n",
       "      <th>BMI</th>\n",
       "      <th>Height</th>\n",
       "      <th>Weight</th>\n",
       "    </tr>\n",
       "    <tr>\n",
       "      <th>NAME</th>\n",
       "      <th>AGE</th>\n",
       "      <th>GENDER</th>\n",
       "      <th></th>\n",
       "      <th></th>\n",
       "      <th></th>\n",
       "      <th></th>\n",
       "      <th></th>\n",
       "    </tr>\n",
       "  </thead>\n",
       "  <tbody>\n",
       "    <tr>\n",
       "      <th>A Anisha</th>\n",
       "      <th>28</th>\n",
       "      <th>female</th>\n",
       "      <td>28</td>\n",
       "      <td>female</td>\n",
       "      <td>31.47</td>\n",
       "      <td>155</td>\n",
       "      <td>75.6</td>\n",
       "    </tr>\n",
       "    <tr>\n",
       "      <th>A Bhanu</th>\n",
       "      <th>31</th>\n",
       "      <th>male</th>\n",
       "      <td>31</td>\n",
       "      <td>male</td>\n",
       "      <td>25.58</td>\n",
       "      <td>168</td>\n",
       "      <td>72.2</td>\n",
       "    </tr>\n",
       "    <tr>\n",
       "      <th>A ROMIO SINGH</th>\n",
       "      <th>30</th>\n",
       "      <th>male</th>\n",
       "      <td>30</td>\n",
       "      <td>male</td>\n",
       "      <td>25.48</td>\n",
       "      <td>163</td>\n",
       "      <td>67.7</td>\n",
       "    </tr>\n",
       "    <tr>\n",
       "      <th>ABHISHEK KASHYAP</th>\n",
       "      <th>36</th>\n",
       "      <th>male</th>\n",
       "      <td>36</td>\n",
       "      <td>male</td>\n",
       "      <td>29</td>\n",
       "      <td>171</td>\n",
       "      <td>84.8</td>\n",
       "    </tr>\n",
       "    <tr>\n",
       "      <th>AJAY BENJWAL</th>\n",
       "      <th>28</th>\n",
       "      <th>male</th>\n",
       "      <td>28</td>\n",
       "      <td>male</td>\n",
       "      <td>24.25</td>\n",
       "      <td>171</td>\n",
       "      <td>70.9</td>\n",
       "    </tr>\n",
       "  </tbody>\n",
       "</table>\n",
       "</div>"
      ],
      "text/plain": [
       "                             Age  Gender    BMI Height Weight\n",
       "NAME             AGE GENDER                                  \n",
       "A Anisha         28  female   28  female  31.47    155   75.6\n",
       "A Bhanu          31  male     31    male  25.58    168   72.2\n",
       "A ROMIO SINGH    30  male     30    male  25.48    163   67.7\n",
       "ABHISHEK KASHYAP 36  male     36    male     29    171   84.8\n",
       "AJAY BENJWAL     28  male     28    male  24.25    171   70.9"
      ]
     },
     "execution_count": 30,
     "metadata": {},
     "output_type": "execute_result"
    }
   ],
   "source": [
    "bmi = bmi[['Age', 'Gender', 'BMI', 'Height', 'Weight']]\n",
    "bmi.head()\n"
   ]
  },
  {
   "cell_type": "markdown",
   "metadata": {},
   "source": [
    "<h1>Changing Datatypes<h1>"
   ]
  },
  {
   "cell_type": "code",
   "execution_count": 31,
   "metadata": {},
   "outputs": [],
   "source": [
    "def convert(s):\n",
    "    s = str(s)\n",
    "    try:\n",
    "        i = s.index('.')\n",
    "        return float(s[:(i+2)])\n",
    "    except:\n",
    "        return float(s)\n",
    "    "
   ]
  },
  {
   "cell_type": "code",
   "execution_count": 32,
   "metadata": {},
   "outputs": [],
   "source": [
    "\n",
    "#bmi['bmi'] = bmi['bmi'].map(lambda bmi : str(bmi))\n",
    "bmi['BMI'] = bmi['BMI'].map(lambda s: convert(s))\n",
    "bmi['Weight'] = bmi['Weight'].map(lambda s: convert(s))\n",
    "bmi['Height'] = bmi['Height'].map(lambda s: convert(s))\n"
   ]
  },
  {
   "cell_type": "code",
   "execution_count": 33,
   "metadata": {},
   "outputs": [
    {
     "data": {
      "text/plain": [
       "\"\\nfor i in range(len(bmi)):\\n    try:\\n        bmi.iloc[i]['BMI'] = float(bmi.iloc[i].Height)\\n    except:\\n        print(bmi.iloc[i])\\n\""
      ]
     },
     "execution_count": 33,
     "metadata": {},
     "output_type": "execute_result"
    }
   ],
   "source": [
    "'''\n",
    "for i in range(len(bmi)):\n",
    "    try:\n",
    "        bmi.iloc[i]['BMI'] = float(bmi.iloc[i].Height)\n",
    "    except:\n",
    "        print(bmi.iloc[i])\n",
    "'''"
   ]
  },
  {
   "cell_type": "markdown",
   "metadata": {},
   "source": [
    "<h1>Analysis</h1>"
   ]
  },
  {
   "cell_type": "code",
   "execution_count": 34,
   "metadata": {},
   "outputs": [
    {
     "data": {
      "text/plain": [
       "(2534, 5)"
      ]
     },
     "execution_count": 34,
     "metadata": {},
     "output_type": "execute_result"
    }
   ],
   "source": [
    "bmi.shape"
   ]
  },
  {
   "cell_type": "code",
   "execution_count": 36,
   "metadata": {},
   "outputs": [
    {
     "data": {
      "text/plain": [
       "<bound method DataFrame.any of                                Age  Gender    BMI  Height  Weight\n",
       "NAME             AGE GENDER                                      \n",
       "A Anisha         28  female  False   False  False   False   False\n",
       "A Bhanu          31  male    False   False  False   False   False\n",
       "A ROMIO SINGH    30  male    False   False  False   False   False\n",
       "ABHISHEK KASHYAP 36  male    False   False  False   False   False\n",
       "AJAY BENJWAL     28  male    False   False  False   False   False\n",
       "...                            ...     ...    ...     ...     ...\n",
       "yedluri.divya    24  female  False   False  False   False   False\n",
       "yezdani.mohammad 33  male    False   False  False   False   False\n",
       "yogeshwari.m     24  female  False   False  False   False   False\n",
       "ysswamy          29  male    False   False  False   False   False\n",
       "zmohammed        30  female  False   False  False   False   False\n",
       "\n",
       "[2534 rows x 5 columns]>"
      ]
     },
     "execution_count": 36,
     "metadata": {},
     "output_type": "execute_result"
    }
   ],
   "source": [
    "bmi.isnull().any"
   ]
  },
  {
   "cell_type": "code",
   "execution_count": 37,
   "metadata": {},
   "outputs": [
    {
     "data": {
      "text/html": [
       "<div>\n",
       "<style scoped>\n",
       "    .dataframe tbody tr th:only-of-type {\n",
       "        vertical-align: middle;\n",
       "    }\n",
       "\n",
       "    .dataframe tbody tr th {\n",
       "        vertical-align: top;\n",
       "    }\n",
       "\n",
       "    .dataframe thead th {\n",
       "        text-align: right;\n",
       "    }\n",
       "</style>\n",
       "<table border=\"1\" class=\"dataframe\">\n",
       "  <thead>\n",
       "    <tr style=\"text-align: right;\">\n",
       "      <th></th>\n",
       "      <th></th>\n",
       "      <th></th>\n",
       "      <th>Age</th>\n",
       "      <th>Gender</th>\n",
       "      <th>BMI</th>\n",
       "      <th>Height</th>\n",
       "      <th>Weight</th>\n",
       "      <th>Status</th>\n",
       "    </tr>\n",
       "    <tr>\n",
       "      <th>NAME</th>\n",
       "      <th>AGE</th>\n",
       "      <th>GENDER</th>\n",
       "      <th></th>\n",
       "      <th></th>\n",
       "      <th></th>\n",
       "      <th></th>\n",
       "      <th></th>\n",
       "      <th></th>\n",
       "    </tr>\n",
       "  </thead>\n",
       "  <tbody>\n",
       "    <tr>\n",
       "      <th>A Anisha</th>\n",
       "      <th>28</th>\n",
       "      <th>female</th>\n",
       "      <td>28</td>\n",
       "      <td>female</td>\n",
       "      <td>31.4</td>\n",
       "      <td>155.0</td>\n",
       "      <td>75.6</td>\n",
       "      <td>Obese</td>\n",
       "    </tr>\n",
       "    <tr>\n",
       "      <th>A Bhanu</th>\n",
       "      <th>31</th>\n",
       "      <th>male</th>\n",
       "      <td>31</td>\n",
       "      <td>male</td>\n",
       "      <td>25.5</td>\n",
       "      <td>168.0</td>\n",
       "      <td>72.2</td>\n",
       "      <td>Overweight</td>\n",
       "    </tr>\n",
       "    <tr>\n",
       "      <th>A ROMIO SINGH</th>\n",
       "      <th>30</th>\n",
       "      <th>male</th>\n",
       "      <td>30</td>\n",
       "      <td>male</td>\n",
       "      <td>25.4</td>\n",
       "      <td>163.0</td>\n",
       "      <td>67.7</td>\n",
       "      <td>Overweight</td>\n",
       "    </tr>\n",
       "    <tr>\n",
       "      <th>ABHISHEK KASHYAP</th>\n",
       "      <th>36</th>\n",
       "      <th>male</th>\n",
       "      <td>36</td>\n",
       "      <td>male</td>\n",
       "      <td>29.0</td>\n",
       "      <td>171.0</td>\n",
       "      <td>84.8</td>\n",
       "      <td>Overweight</td>\n",
       "    </tr>\n",
       "    <tr>\n",
       "      <th>AJAY BENJWAL</th>\n",
       "      <th>28</th>\n",
       "      <th>male</th>\n",
       "      <td>28</td>\n",
       "      <td>male</td>\n",
       "      <td>24.2</td>\n",
       "      <td>171.0</td>\n",
       "      <td>70.9</td>\n",
       "      <td>Normal</td>\n",
       "    </tr>\n",
       "  </tbody>\n",
       "</table>\n",
       "</div>"
      ],
      "text/plain": [
       "                             Age  Gender   BMI  Height  Weight      Status\n",
       "NAME             AGE GENDER                                               \n",
       "A Anisha         28  female   28  female  31.4   155.0    75.6       Obese\n",
       "A Bhanu          31  male     31    male  25.5   168.0    72.2  Overweight\n",
       "A ROMIO SINGH    30  male     30    male  25.4   163.0    67.7  Overweight\n",
       "ABHISHEK KASHYAP 36  male     36    male  29.0   171.0    84.8  Overweight\n",
       "AJAY BENJWAL     28  male     28    male  24.2   171.0    70.9      Normal"
      ]
     },
     "execution_count": 37,
     "metadata": {},
     "output_type": "execute_result"
    }
   ],
   "source": [
    "#Giving status according to BMI\n",
    "'''\n",
    "(low,high)->type\n",
    "(0,19)->Underweight\n",
    "(19, 25)->Normal\n",
    "(25, 30)->Overweight\n",
    "(30, 40)->Obese\n",
    ">40 -> Extreme Obesity\n",
    "'''\n",
    "def convert_status_to_description(x):\n",
    "    if x['BMI'] < 18.5 :\n",
    "        return 'Underweight'\n",
    "    elif x['BMI'] < 24.9 :\n",
    "        return 'Normal'\n",
    "    elif x['BMI'] < 29.9:\n",
    "        return 'Overweight'\n",
    "    elif x['BMI'] < 40:\n",
    "        return 'Obese'\n",
    "    else:\n",
    "        return 'Extreme Obesity'\n",
    "    \n",
    "bmi['Status'] = bmi.apply(convert_status_to_description,axis=1)\n",
    "bmi.head()\n"
   ]
  },
  {
   "cell_type": "code",
   "execution_count": 38,
   "metadata": {},
   "outputs": [
    {
     "name": "stdout",
     "output_type": "stream",
     "text": [
      "2534\n",
      "2408\n",
      "2408\n",
      "2162\n"
     ]
    }
   ],
   "source": [
    "#Removing outliers\n",
    "\n",
    "#weight\n",
    "print(len(bmi))\n",
    "bmi = bmi[(bmi.Weight<200) &(bmi.Weight>10)]\n",
    "print(len(bmi))\n",
    "\n",
    "#height\n",
    "print(len(bmi))\n",
    "bmi = bmi[(bmi.Height<200) & (bmi.Height>2)]\n",
    "print(len(bmi))"
   ]
  },
  {
   "cell_type": "code",
   "execution_count": null,
   "metadata": {},
   "outputs": [],
   "source": []
  },
  {
   "cell_type": "code",
   "execution_count": 39,
   "metadata": {},
   "outputs": [
    {
     "data": {
      "text/plain": [
       "<matplotlib.legend.Legend at 0x10c5493c8>"
      ]
     },
     "execution_count": 39,
     "metadata": {},
     "output_type": "execute_result"
    },
    {
     "data": {
      "image/png": "[encoded data removed]",
      "text/plain": [
       "<Figure size 576x576 with 1 Axes>"
      ]
     },
     "metadata": {},
     "output_type": "display_data"
    }
   ],
   "source": [
    "sns.set_style('whitegrid')\n",
    "\n",
    "# colors = ['#66c2a5','#fc8d62','#8da0cb','#e78ac3','#a6d854','#ffd92f']\n",
    "## http://colorbrewer2.org/#type=qualitative&scheme=Set2&n=6\n",
    "\n",
    "# plt.scatter(x='Height',y='Weight',data=data_visual,c=data_visual['Index'],\n",
    "#             cmap=matplotlib.colors.ListedColormap(colors))\n",
    "# plt.colorbar()\n",
    "\n",
    "## https://stackoverflow.com/questions/21654635/scatter-plots-in-pandas-pyplot-how-to-plot-by-category\n",
    "\n",
    "sns.lmplot( x='Height', y='Weight', data=bmi, \n",
    "           fit_reg=False, \n",
    "           hue='Status',\n",
    "           legend=False, \n",
    "           palette='Set1',\n",
    "           size = 8, \n",
    "           aspect = 1\n",
    "                     )\n",
    "ax1 = plt.gca()\n",
    "ax1.set_title('Height vs Weight', size=15)\n",
    "\n",
    "## https://stackoverflow.com/questions/4700614/how-to-put-the-legend-out-of-the-plot\n",
    "\n",
    "# Shrink current axis by 20%\n",
    "box = ax1.get_position()\n",
    "ax1.set_position([box.x0, box.y0, box.width * 0.8, box.height])\n",
    "\n",
    "# Put a legend to the right of the current axis\n",
    "ax1.legend(loc='center left', bbox_to_anchor=(1, 0.5),prop={'size': 15})"
   ]
  },
  {
   "cell_type": "code",
   "execution_count": 40,
   "metadata": {},
   "outputs": [
    {
     "data": {
      "text/plain": [
       "Normal             906\n",
       "Overweight         901\n",
       "Obese              272\n",
       "Underweight         57\n",
       "Extreme Obesity     26\n",
       "Name: Status, dtype: int64"
      ]
     },
     "execution_count": 40,
     "metadata": {},
     "output_type": "execute_result"
    }
   ],
   "source": [
    "bmi['Status'].value_counts()"
   ]
  },
  {
   "cell_type": "code",
   "execution_count": 41,
   "metadata": {},
   "outputs": [],
   "source": [
    "groups  = bmi.groupby('Status')"
   ]
  },
  {
   "cell_type": "code",
   "execution_count": 470,
   "metadata": {},
   "outputs": [
    {
     "name": "stdout",
     "output_type": "stream",
     "text": [
      "NAME                     AGE  GENDER\n",
      "Aayush Agarwal           22   male      22\n",
      "Archana R                35   female    35\n",
      "Atla Sravya Varma        27   female    27\n",
      "Esther Manthiannem       25   female    25\n",
      "Kalpana Gampula          32   female    32\n",
      "Kaushik Choudhury        34   male      34\n",
      "Lakshmankumar M          33   male      33\n",
      "Madhusmita               34   female    34\n",
      "Mkesh Kumar Parihar      37   male      37\n",
      "NAMITHA K B              33   female    33\n",
      "PRIYASHA GUPTA           27   female    27\n",
      "Peddinti Shantosh Reddy  31   male      31\n",
      "Riddhi Merchant          31   female    31\n",
      "Santosh Kumar Bishoyi    42   male      42\n",
      "akartheka                35   male      35\n",
      "alka.mallick             30   female    30\n",
      "chandrasekhar.d          32   male      32\n",
      "krrushendra.babu         29   male      29\n",
      "lijo.cherian             33   male      33\n",
      "madhumita.de             25   female    25\n",
      "padminir                 32   female    32\n",
      "prem.kumarm              24   male      24\n",
      "sinchana.mr              23   female    23\n",
      "sj.gayatri               30   female    30\n",
      "trisha.majumder          24   female    24\n",
      "vidhya.km                24   female    24\n",
      "Name: Age, dtype: int64\n",
      "NAME                  AGE  GENDER\n",
      "AJAY BENJWAL          28   male      28\n",
      "AKHIL GARG            32   male      32\n",
      "ALEENA GEORGE         24   female    24\n",
      "ATA UL HAQUE          23   male      23\n",
      "Aadithya Krishnan     23   male      23\n",
      "                                     ..\n",
      "vinodkumar.yadav      27   male      27\n",
      "vishwanath.hansbhavi  26   male      26\n",
      "vnanjannavar          24   male      24\n",
      "yogeshwari.m          24   female    24\n",
      "zmohammed             30   female    30\n",
      "Name: Age, Length: 906, dtype: int64\n",
      "NAME                       AGE  GENDER\n",
      "A Anisha                   28   female    28\n",
      "Aashish Sharma             36   male      36\n",
      "Abhinav Shankar            24   male      24\n",
      "Abhishek Pradhan           24   male      24\n",
      "Adit Gupta                 22   male      22\n",
      "                                          ..\n",
      "v kotaiah babu             33   male      33\n",
      "vaishali.mittal1           30   female    30\n",
      "vgunturu                   33   male      33\n",
      "vishnu vardhan shatagopam  28   male      28\n",
      "vmahendrakar               40   male      40\n",
      "Name: Age, Length: 272, dtype: int64\n",
      "NAME                        AGE  GENDER\n",
      "A Bhanu                     31   male      31\n",
      "A ROMIO SINGH               30   male      30\n",
      "ABHISHEK KASHYAP            36   male      36\n",
      "ANKIT AGRAWAL               23   male      23\n",
      "ANKUSH MISHRA               25   male      25\n",
      "                                           ..\n",
      "vthirumalaisamy             34   male      34\n",
      "wsnrahaman                  39   male      39\n",
      "yaswanthreddy.bramhadevuni  21   male      21\n",
      "yezdani.mohammad            33   male      33\n",
      "ysswamy                     29   male      29\n",
      "Name: Age, Length: 901, dtype: int64\n",
      "NAME                      AGE  GENDER\n",
      "Aakash Agrawal            30   male      30\n",
      "Agana Priya               24   female    24\n",
      "Amrutha cl                26   female    26\n",
      "Anjana Nair               24   female    24\n",
      "Anugraha Menon            23   female    23\n",
      "Aravinth S                24   male      24\n",
      "Chandini Muttineni        26   female    26\n",
      "Danish Khan Niyazi        25   male      25\n",
      "Enu Raman                 29   female    29\n",
      "Gaurav Gupta              27   male      27\n",
      "Guna                      24   male      24\n",
      "Kavitha O                 23   female    23\n",
      "Krishna Prasad            24   male      24\n",
      "M D V Suryanarayana       33   male      33\n",
      "Mahalakshmi Rameshbabu    23   female    23\n",
      "Megha.ds                  21   female    21\n",
      "Mohammed Aninas           23   male      23\n",
      "Mrdul Bhowl               25   male      25\n",
      "Muthu kannadasan          27   male      27\n",
      "Naga Sai Theja Malipeddi  22   male      22\n",
      "Niveditha R               24   female    24\n",
      "Parul Khare               30   female    30\n",
      "Pranali Bhalerao          23   female    23\n",
      "Preethi Murugan           25   female    25\n",
      "Rajendar                  29   male      29\n",
      "Rakesh Nair               24   male      24\n",
      "Ram Kumar Avudaiappan     25   male      25\n",
      "Ramana                    23   male      23\n",
      "SEKHAR ANINGI             28   male      28\n",
      "SRI LEKHA OBULAREDDY      24   female    24\n",
      "Samiksha Sharma           26   female    26\n",
      "Satyavani Chittuluri      29   female    29\n",
      "Shaeestha Banu            22   female    22\n",
      "Shanthi Kumar T           32   male      32\n",
      "Smita Gaidhankar          29   female    29\n",
      "Suhas S Melmuri           22   male      22\n",
      "Swikriti Swarna           24   female    24\n",
      "Tanaya Pai                25   female    25\n",
      "VARUNKUMAR                23   male      23\n",
      "Vengadesh S               31   male      31\n",
      "abinaya.ravanan           24   female    24\n",
      "akshdeep.sharma           24   male      24\n",
      "b.pranathi                29   female    29\n",
      "darshan.kn                25   male      25\n",
      "dhiraj.agarwal            22   male      22\n",
      "harshini.palla            23   female    23\n",
      "lakithapriya.pinto        24   female    24\n",
      "madhushree.k              24   female    24\n",
      "mohan.s                   24   male      24\n",
      "n.tejasvi                 26   female    26\n",
      "padmaja.vobbilisetti      24   female    24\n",
      "risha.das                 24   female    24\n",
      "satyaki.de                23   male      23\n",
      "shuchi.dave               29   female    29\n",
      "shwethaprakash.nayak      25   female    25\n",
      "sowmya.m3                 28   female    28\n",
      "statti                    24   male      24\n",
      "Name: Age, dtype: int64\n"
     ]
    }
   ],
   "source": [
    "for name, group in groups:\n",
    "    print()"
   ]
  },
  {
   "cell_type": "code",
   "execution_count": null,
   "metadata": {},
   "outputs": [],
   "source": [
    "#only height and weight distrubutions\n",
    "#identify outliers\n",
    "#mean, mode, variance\n",
    "#by gender -> mean(height, wieght)\n",
    "#avg height of males, females\n",
    "#only BMI(sorted)->hist\n",
    "#check other bioparams\n",
    "#correlation b/w bmi and bp"
   ]
  },
  {
   "cell_type": "code",
   "execution_count": null,
   "metadata": {},
   "outputs": [],
   "source": []
  },
  {
   "cell_type": "code",
   "execution_count": null,
   "metadata": {},
   "outputs": [],
   "source": []
  },
  {
   "cell_type": "code",
   "execution_count": null,
   "metadata": {},
   "outputs": [],
   "source": []
  },
  {
   "cell_type": "code",
   "execution_count": null,
   "metadata": {},
   "outputs": [],
   "source": []
  }
 ],
 "metadata": {
  "hide_input": false,
  "kernelspec": {
   "display_name": "Python 3",
   "language": "python",
   "name": "python3"
  },
  "language_info": {
   "codemirror_mode": {
    "name": "ipython",
    "version": 3
   },
   "file_extension": ".py",
   "mimetype": "text/x-python",
   "name": "python",
   "nbconvert_exporter": "python",
   "pygments_lexer": "ipython3",
   "version": "3.7.2"
  }
 },
 "nbformat": 4,
 "nbformat_minor": 2
}
