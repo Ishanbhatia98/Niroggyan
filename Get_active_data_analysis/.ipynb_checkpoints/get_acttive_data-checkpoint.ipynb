{
 "cells": [
  {
   "cell_type": "code",
   "execution_count": 36,
   "metadata": {},
   "outputs": [],
   "source": [
    "import pandas as pd"
   ]
  },
  {
   "cell_type": "code",
   "execution_count": 37,
   "metadata": {},
   "outputs": [],
   "source": [
    "data = pd.read_csv('final.csv')"
   ]
  },
  {
   "cell_type": "code",
   "execution_count": 38,
   "metadata": {},
   "outputs": [],
   "source": [
    "#data.rename(columns = {'Unnamed: 0':'INDEX'}, inplace=True)\n",
    "data = data.drop(['Unnamed: 0'], axis=1)"
   ]
  },
  {
   "cell_type": "markdown",
   "metadata": {},
   "source": [
    "<h1>Restructuring data using 'pivot' method"
   ]
  },
  {
   "cell_type": "code",
   "execution_count": 39,
   "metadata": {},
   "outputs": [
    {
     "data": {
      "text/plain": [
       "((128999, 3), (145460, 10), (128999, 10))"
      ]
     },
     "execution_count": 39,
     "metadata": {},
     "output_type": "execute_result"
    }
   ],
   "source": [
    "#duplicate values Name, test\n",
    "data[['NAME','PARAM TEST', 'AGE']].drop_duplicates().shape,data.shape,data.drop_duplicates().shape"
   ]
  },
  {
   "cell_type": "code",
   "execution_count": 40,
   "metadata": {},
   "outputs": [
    {
     "data": {
      "text/plain": [
       "NAME          2527\n",
       "AGE             36\n",
       "GENDER           2\n",
       "DATE             1\n",
       "VALUE         9918\n",
       "LOW             46\n",
       "HIGH            59\n",
       "PARAM TEST      81\n",
       "UNIT            21\n",
       "ORDER_ID      2534\n",
       "dtype: int64"
      ]
     },
     "execution_count": 40,
     "metadata": {},
     "output_type": "execute_result"
    }
   ],
   "source": [
    "data.apply('nunique')"
   ]
  },
  {
   "cell_type": "code",
   "execution_count": 41,
   "metadata": {},
   "outputs": [],
   "source": [
    "#find repeating names, repeating values\n",
    "data['USER'] = data['NAME'].astype(str) + '_' + data['AGE'].astype(str)+'_'+data['GENDER'].astype(str)+'_'+data['DATE'].astype(str)\n",
    "data['RESULT'] = data['HIGH']+data['VALUE']+data['LOW']+data['UNIT']"
   ]
  },
  {
   "cell_type": "code",
   "execution_count": 42,
   "metadata": {},
   "outputs": [],
   "source": [
    "data = data.drop_duplicates()"
   ]
  },
  {
   "cell_type": "code",
   "execution_count": 43,
   "metadata": {},
   "outputs": [],
   "source": [
    "#Using pivot\n",
    "new = data.pivot(index='USER', columns='PARAM TEST', values='RESULT').reset_index()"
   ]
  },
  {
   "cell_type": "code",
   "execution_count": 44,
   "metadata": {},
   "outputs": [
    {
     "data": {
      "text/plain": [
       "PARAM TEST\n",
       "USER                                      0\n",
       "A/G RATIO                              2534\n",
       "ALANINE AMINOTRANSFERASE (ALT/SGPT)      96\n",
       "ALBUMIN                                  96\n",
       "ALKALINE PHOSPHATASE                     96\n",
       "                                       ... \n",
       "VLDL CHOLESTEROL                        130\n",
       "VOLUME                                 2530\n",
       "WEIGHT                                   91\n",
       "YEAST                                  2530\n",
       "pH                                     2534\n",
       "Length: 82, dtype: int64"
      ]
     },
     "execution_count": 44,
     "metadata": {},
     "output_type": "execute_result"
    }
   ],
   "source": [
    "#chscks\n",
    "new.isnull().sum()"
   ]
  },
  {
   "cell_type": "code",
   "execution_count": 46,
   "metadata": {},
   "outputs": [
    {
     "data": {
      "text/plain": [
       "0         navaneeth.hariharan_24_male_25-07-2019\n",
       "1         navaneeth.hariharan_24_male_25-07-2019\n",
       "2         navaneeth.hariharan_24_male_25-07-2019\n",
       "3         navaneeth.hariharan_24_male_25-07-2019\n",
       "4         navaneeth.hariharan_24_male_25-07-2019\n",
       "                           ...                  \n",
       "145455             as.ramya_32_female_25-07-2019\n",
       "145456     Niveditha Shetty_31_female_25-07-2019\n",
       "145457     Niveditha Shetty_31_female_25-07-2019\n",
       "145458     Niveditha Shetty_31_female_25-07-2019\n",
       "145459     Niveditha Shetty_31_female_25-07-2019\n",
       "Name: USER, Length: 128999, dtype: object"
      ]
     },
     "execution_count": 46,
     "metadata": {},
     "output_type": "execute_result"
    }
   ],
   "source": [
    "data['USER']"
   ]
  },
  {
   "cell_type": "code",
   "execution_count": 48,
   "metadata": {},
   "outputs": [
    {
     "name": "stderr",
     "output_type": "stream",
     "text": [
      "/Library/Frameworks/Python.framework/Versions/3.7/lib/python3.7/site-packages/ipykernel_launcher.py:2: FutureWarning: Columnar iteration over characters will be deprecated in future releases.\n",
      "  \n"
     ]
    }
   ],
   "source": [
    "#Retrieving name and age from user\n",
    "new['NAME'], new['AGE'], new['GENDER'], new['DATE'] = new['USER'].str.split('_').str"
   ]
  },
  {
   "cell_type": "code",
   "execution_count": 50,
   "metadata": {},
   "outputs": [],
   "source": [
    "cols = new.columns\n",
    "cols = list(cols)\n",
    "cols.remove('NAME')\n",
    "cols.remove('AGE')\n",
    "cols.remove('GENDER')\n",
    "cols.remove('DATE')\n",
    "cols.insert(0,'DATE')\n",
    "cols.insert(0,'GENDER')\n",
    "cols.insert(0,'AGE')\n",
    "cols.insert(0,'NAME')\n",
    "\n",
    "new = new[cols]\n",
    "\n",
    "data = new"
   ]
  },
  {
   "cell_type": "markdown",
   "metadata": {},
   "source": [
    "<h1>Demographic Analysis</h1>"
   ]
  },
  {
   "cell_type": "code",
   "execution_count": 51,
   "metadata": {},
   "outputs": [
    {
     "data": {
      "text/plain": [
       "Index(['NAME', 'AGE', 'GENDER', 'DATE', 'USER', 'A/G RATIO',\n",
       "       'ALANINE AMINOTRANSFERASE (ALT/SGPT)', 'ALBUMIN',\n",
       "       'ALKALINE PHOSPHATASE', 'ASPARTATE AMINOTRANSFERASE (AST/SGOT)',\n",
       "       'BACTERIA', 'BASOPHILS', 'BASOPHILS %', 'BILIRUBIN (INDIRECT)',\n",
       "       'BILIRUBIN CONJUGATED (DIRECT)', 'BILIRUBIN, TOTAL', 'BLOOD',\n",
       "       'BLOOD UREA NITROGEN', 'BODY MASS INDEX', 'CALCIUM', 'CASTS',\n",
       "       'CHOL / HDL RATIO', 'COLOUR', 'CREATININE', 'CRYSTALS', 'Diastolic',\n",
       "       'EOSINOPHILS', 'EOSINOPHILS %', 'EPITHELIAL CELLS',\n",
       "       'ESR (ERYTHROCYTE SEDIMENTATION RATE)',\n",
       "       'ESTIMATED AVERAGE GLUCOSE (eAG)', 'Electrocardiogram (ECG)',\n",
       "       'GAMMA GLUTAMYL TRANSPEPTIDASE (GGT)', 'GLOBULIN', 'GLUCOSE',\n",
       "       'GLUCOSE, FASTING', 'HAEMOGLOBIN', 'HDL CHOLESTEROL', 'HEIGHT',\n",
       "       'HS-CRP (HIGH SENSITIVITY C-REACTIVE PROTEIN)',\n",
       "       'HbA1c, GLYCATED HEMOGLOBIN', 'KETONES', 'LDL CHOLESTEROL',\n",
       "       'LYMPHOCYTES', 'LYMPHOCYTES %', 'MCH', 'MCHC', 'MCV', 'MONOCYTES',\n",
       "       'MONOCYTES %', 'NEUTROPHILS', 'NEUTROPHILS %', 'NITRITE', 'OTHERS',\n",
       "       'PCV', 'PERIPHERAL SMEAR', 'PHOSPHORUS, INORGANIC', 'PLATELET COUNT',\n",
       "       'PROTEIN, TOTAL', 'PUS CELLS', 'R.D.W-CV', 'R.D.W-SD', 'RBC',\n",
       "       'RBC COUNT', 'SP. GRAVITY', 'Systolic', 'THYROXINE (T4, TOTAL)',\n",
       "       'TOTAL CHOLESTEROL', 'TOTAL LEUCOCYTE COUNT (TLC)', 'TRANSPARENCY',\n",
       "       'TRI-IODOTHYRONINE (T3, TOTAL)', 'TRIGLYCERIDES', 'TSH', 'UREA',\n",
       "       'UREA- FOR FORMULAE', 'URIC ACID', 'URINE BILIRUBIN', 'URINE PROTEIN',\n",
       "       'UROBILINOGEN', 'VITAMIN B12', 'VITAMIN D (25 - OH VITAMIN D)',\n",
       "       'VLDL CHOLESTEROL', 'VOLUME', 'WEIGHT', 'YEAST', 'pH'],\n",
       "      dtype='object', name='PARAM TEST')"
      ]
     },
     "execution_count": 51,
     "metadata": {},
     "output_type": "execute_result"
    }
   ],
   "source": [
    "data.columns"
   ]
  },
  {
   "cell_type": "code",
   "execution_count": 53,
   "metadata": {},
   "outputs": [],
   "source": [
    "#TODO:define type for columns\n",
    "#TODO:Add date??\n",
    "\n",
    "data['AGE'] = data['AGE'].apply(pd.to_numeric)\n",
    "data.DATE = pd.to_datetime(data.DATE)"
   ]
  },
  {
   "cell_type": "code",
   "execution_count": 54,
   "metadata": {},
   "outputs": [],
   "source": [
    "#classification according to age\n",
    "\n",
    "child = data[data.AGE < 16]\n",
    "youngAdult = data[(data.AGE >=16) & (data.AGE<=30)]\n",
    "midAdult = data[(data.AGE>=31) & (data.AGE<=50)]\n",
    "oldAdult = data[(data.AGE>=51) & (data.AGE<=70)]\n",
    "old = data[data.AGE >=71]"
   ]
  },
  {
   "cell_type": "code",
   "execution_count": 55,
   "metadata": {},
   "outputs": [],
   "source": [
    "#classification according to gender in age cohorts\n",
    "m, f = 'male', 'female'\n",
    "\n",
    "child_m = child[child.GENDER==m]\n",
    "child_f = child[child.GENDER==f]\n",
    "\n",
    "youngAdult_m = youngAdult[youngAdult.GENDER==m]\n",
    "youngAdult_f = youngAdult[youngAdult.GENDER==f]\n",
    "\n",
    "midAdult_m = midAdult[midAdult.GENDER==m]\n",
    "midAdult_f = midAdult[midAdult.GENDER==f]\n",
    "\n",
    "oldAdult_m = oldAdult[oldAdult.GENDER==m]\n",
    "oldAdult_f = oldAdult[oldAdult.GENDER==f]\n",
    "\n",
    "old_m = old[old.GENDER==m]\n",
    "old_f = old[old.GENDER==f]\n"
   ]
  },
  {
   "cell_type": "code",
   "execution_count": 56,
   "metadata": {},
   "outputs": [],
   "source": [
    "#check\n",
    "assert len(old) + len(oldAdult) + len(midAdult) + len(youngAdult) + len(child) == len(data)\n",
    "\n",
    "assert len(child_m)+len(child_f) == len(child)\n",
    "assert len(youngAdult_m)+len(youngAdult_f) == len(youngAdult)\n",
    "assert len(midAdult_m)+len(midAdult_f) == len(midAdult)\n",
    "assert len(oldAdult_m)+len(oldAdult_f) == len(oldAdult)\n",
    "assert len(old_m)+len(old_f) == len(old)"
   ]
  },
  {
   "cell_type": "code",
   "execution_count": null,
   "metadata": {},
   "outputs": [],
   "source": []
  },
  {
   "cell_type": "code",
   "execution_count": null,
   "metadata": {},
   "outputs": [],
   "source": []
  }
 ],
 "metadata": {
  "hide_input": false,
  "kernelspec": {
   "display_name": "Python 3",
   "language": "python",
   "name": "python3"
  },
  "language_info": {
   "codemirror_mode": {
    "name": "ipython",
    "version": 3
   },
   "file_extension": ".py",
   "mimetype": "text/x-python",
   "name": "python",
   "nbconvert_exporter": "python",
   "pygments_lexer": "ipython3",
   "version": "3.7.2"
  }
 },
 "nbformat": 4,
 "nbformat_minor": 2
}
